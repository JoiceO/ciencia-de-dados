{
  "nbformat": 4,
  "nbformat_minor": 0,
  "metadata": {
    "colab": {
      "provenance": [],
      "gpuType": "T4"
    },
    "kernelspec": {
      "name": "python3",
      "display_name": "Python 3"
    },
    "accelerator": "GPU",
    "widgets": {
      "application/vnd.jupyter.widget-state+json": {
        "900e133178bf4380877c489d5e64651b": {
          "model_module": "@jupyter-widgets/controls",
          "model_name": "HBoxModel",
          "model_module_version": "1.5.0",
          "state": {
            "_dom_classes": [],
            "_model_module": "@jupyter-widgets/controls",
            "_model_module_version": "1.5.0",
            "_model_name": "HBoxModel",
            "_view_count": null,
            "_view_module": "@jupyter-widgets/controls",
            "_view_module_version": "1.5.0",
            "_view_name": "HBoxView",
            "box_style": "",
            "children": [
              "IPY_MODEL_37523cacf52d403eb8632b699176b8b4",
              "IPY_MODEL_efb7a664e0ef4e3a805bbd192cd13773",
              "IPY_MODEL_a78f3878d9ec42b0a6204f1723026dc3"
            ],
            "layout": "IPY_MODEL_05004592b9a341cb9fb778730fdfa46a"
          }
        },
        "37523cacf52d403eb8632b699176b8b4": {
          "model_module": "@jupyter-widgets/controls",
          "model_name": "HTMLModel",
          "model_module_version": "1.5.0",
          "state": {
            "_dom_classes": [],
            "_model_module": "@jupyter-widgets/controls",
            "_model_module_version": "1.5.0",
            "_model_name": "HTMLModel",
            "_view_count": null,
            "_view_module": "@jupyter-widgets/controls",
            "_view_module_version": "1.5.0",
            "_view_name": "HTMLView",
            "description": "",
            "description_tooltip": null,
            "layout": "IPY_MODEL_cc65cc361ea541b58d3d16feb31a7bae",
            "placeholder": "​",
            "style": "IPY_MODEL_fe745a9da0a34033899e6a7411d7c81d",
            "value": "Downloading (…)okenizer_config.json: 100%"
          }
        },
        "efb7a664e0ef4e3a805bbd192cd13773": {
          "model_module": "@jupyter-widgets/controls",
          "model_name": "FloatProgressModel",
          "model_module_version": "1.5.0",
          "state": {
            "_dom_classes": [],
            "_model_module": "@jupyter-widgets/controls",
            "_model_module_version": "1.5.0",
            "_model_name": "FloatProgressModel",
            "_view_count": null,
            "_view_module": "@jupyter-widgets/controls",
            "_view_module_version": "1.5.0",
            "_view_name": "ProgressView",
            "bar_style": "success",
            "description": "",
            "description_tooltip": null,
            "layout": "IPY_MODEL_2a632e44a0d94f7f965b550ffa6f37d7",
            "max": 155,
            "min": 0,
            "orientation": "horizontal",
            "style": "IPY_MODEL_a9d52687f631406a995e1fbf09ac3ac7",
            "value": 155
          }
        },
        "a78f3878d9ec42b0a6204f1723026dc3": {
          "model_module": "@jupyter-widgets/controls",
          "model_name": "HTMLModel",
          "model_module_version": "1.5.0",
          "state": {
            "_dom_classes": [],
            "_model_module": "@jupyter-widgets/controls",
            "_model_module_version": "1.5.0",
            "_model_name": "HTMLModel",
            "_view_count": null,
            "_view_module": "@jupyter-widgets/controls",
            "_view_module_version": "1.5.0",
            "_view_name": "HTMLView",
            "description": "",
            "description_tooltip": null,
            "layout": "IPY_MODEL_1cdf9b5c96ff49edafca534da06c4c29",
            "placeholder": "​",
            "style": "IPY_MODEL_196ee51ba68e405d9f0cb828c3b39dcb",
            "value": " 155/155 [00:00&lt;00:00, 8.77kB/s]"
          }
        },
        "05004592b9a341cb9fb778730fdfa46a": {
          "model_module": "@jupyter-widgets/base",
          "model_name": "LayoutModel",
          "model_module_version": "1.2.0",
          "state": {
            "_model_module": "@jupyter-widgets/base",
            "_model_module_version": "1.2.0",
            "_model_name": "LayoutModel",
            "_view_count": null,
            "_view_module": "@jupyter-widgets/base",
            "_view_module_version": "1.2.0",
            "_view_name": "LayoutView",
            "align_content": null,
            "align_items": null,
            "align_self": null,
            "border": null,
            "bottom": null,
            "display": null,
            "flex": null,
            "flex_flow": null,
            "grid_area": null,
            "grid_auto_columns": null,
            "grid_auto_flow": null,
            "grid_auto_rows": null,
            "grid_column": null,
            "grid_gap": null,
            "grid_row": null,
            "grid_template_areas": null,
            "grid_template_columns": null,
            "grid_template_rows": null,
            "height": null,
            "justify_content": null,
            "justify_items": null,
            "left": null,
            "margin": null,
            "max_height": null,
            "max_width": null,
            "min_height": null,
            "min_width": null,
            "object_fit": null,
            "object_position": null,
            "order": null,
            "overflow": null,
            "overflow_x": null,
            "overflow_y": null,
            "padding": null,
            "right": null,
            "top": null,
            "visibility": null,
            "width": null
          }
        },
        "cc65cc361ea541b58d3d16feb31a7bae": {
          "model_module": "@jupyter-widgets/base",
          "model_name": "LayoutModel",
          "model_module_version": "1.2.0",
          "state": {
            "_model_module": "@jupyter-widgets/base",
            "_model_module_version": "1.2.0",
            "_model_name": "LayoutModel",
            "_view_count": null,
            "_view_module": "@jupyter-widgets/base",
            "_view_module_version": "1.2.0",
            "_view_name": "LayoutView",
            "align_content": null,
            "align_items": null,
            "align_self": null,
            "border": null,
            "bottom": null,
            "display": null,
            "flex": null,
            "flex_flow": null,
            "grid_area": null,
            "grid_auto_columns": null,
            "grid_auto_flow": null,
            "grid_auto_rows": null,
            "grid_column": null,
            "grid_gap": null,
            "grid_row": null,
            "grid_template_areas": null,
            "grid_template_columns": null,
            "grid_template_rows": null,
            "height": null,
            "justify_content": null,
            "justify_items": null,
            "left": null,
            "margin": null,
            "max_height": null,
            "max_width": null,
            "min_height": null,
            "min_width": null,
            "object_fit": null,
            "object_position": null,
            "order": null,
            "overflow": null,
            "overflow_x": null,
            "overflow_y": null,
            "padding": null,
            "right": null,
            "top": null,
            "visibility": null,
            "width": null
          }
        },
        "fe745a9da0a34033899e6a7411d7c81d": {
          "model_module": "@jupyter-widgets/controls",
          "model_name": "DescriptionStyleModel",
          "model_module_version": "1.5.0",
          "state": {
            "_model_module": "@jupyter-widgets/controls",
            "_model_module_version": "1.5.0",
            "_model_name": "DescriptionStyleModel",
            "_view_count": null,
            "_view_module": "@jupyter-widgets/base",
            "_view_module_version": "1.2.0",
            "_view_name": "StyleView",
            "description_width": ""
          }
        },
        "2a632e44a0d94f7f965b550ffa6f37d7": {
          "model_module": "@jupyter-widgets/base",
          "model_name": "LayoutModel",
          "model_module_version": "1.2.0",
          "state": {
            "_model_module": "@jupyter-widgets/base",
            "_model_module_version": "1.2.0",
            "_model_name": "LayoutModel",
            "_view_count": null,
            "_view_module": "@jupyter-widgets/base",
            "_view_module_version": "1.2.0",
            "_view_name": "LayoutView",
            "align_content": null,
            "align_items": null,
            "align_self": null,
            "border": null,
            "bottom": null,
            "display": null,
            "flex": null,
            "flex_flow": null,
            "grid_area": null,
            "grid_auto_columns": null,
            "grid_auto_flow": null,
            "grid_auto_rows": null,
            "grid_column": null,
            "grid_gap": null,
            "grid_row": null,
            "grid_template_areas": null,
            "grid_template_columns": null,
            "grid_template_rows": null,
            "height": null,
            "justify_content": null,
            "justify_items": null,
            "left": null,
            "margin": null,
            "max_height": null,
            "max_width": null,
            "min_height": null,
            "min_width": null,
            "object_fit": null,
            "object_position": null,
            "order": null,
            "overflow": null,
            "overflow_x": null,
            "overflow_y": null,
            "padding": null,
            "right": null,
            "top": null,
            "visibility": null,
            "width": null
          }
        },
        "a9d52687f631406a995e1fbf09ac3ac7": {
          "model_module": "@jupyter-widgets/controls",
          "model_name": "ProgressStyleModel",
          "model_module_version": "1.5.0",
          "state": {
            "_model_module": "@jupyter-widgets/controls",
            "_model_module_version": "1.5.0",
            "_model_name": "ProgressStyleModel",
            "_view_count": null,
            "_view_module": "@jupyter-widgets/base",
            "_view_module_version": "1.2.0",
            "_view_name": "StyleView",
            "bar_color": null,
            "description_width": ""
          }
        },
        "1cdf9b5c96ff49edafca534da06c4c29": {
          "model_module": "@jupyter-widgets/base",
          "model_name": "LayoutModel",
          "model_module_version": "1.2.0",
          "state": {
            "_model_module": "@jupyter-widgets/base",
            "_model_module_version": "1.2.0",
            "_model_name": "LayoutModel",
            "_view_count": null,
            "_view_module": "@jupyter-widgets/base",
            "_view_module_version": "1.2.0",
            "_view_name": "LayoutView",
            "align_content": null,
            "align_items": null,
            "align_self": null,
            "border": null,
            "bottom": null,
            "display": null,
            "flex": null,
            "flex_flow": null,
            "grid_area": null,
            "grid_auto_columns": null,
            "grid_auto_flow": null,
            "grid_auto_rows": null,
            "grid_column": null,
            "grid_gap": null,
            "grid_row": null,
            "grid_template_areas": null,
            "grid_template_columns": null,
            "grid_template_rows": null,
            "height": null,
            "justify_content": null,
            "justify_items": null,
            "left": null,
            "margin": null,
            "max_height": null,
            "max_width": null,
            "min_height": null,
            "min_width": null,
            "object_fit": null,
            "object_position": null,
            "order": null,
            "overflow": null,
            "overflow_x": null,
            "overflow_y": null,
            "padding": null,
            "right": null,
            "top": null,
            "visibility": null,
            "width": null
          }
        },
        "196ee51ba68e405d9f0cb828c3b39dcb": {
          "model_module": "@jupyter-widgets/controls",
          "model_name": "DescriptionStyleModel",
          "model_module_version": "1.5.0",
          "state": {
            "_model_module": "@jupyter-widgets/controls",
            "_model_module_version": "1.5.0",
            "_model_name": "DescriptionStyleModel",
            "_view_count": null,
            "_view_module": "@jupyter-widgets/base",
            "_view_module_version": "1.2.0",
            "_view_name": "StyleView",
            "description_width": ""
          }
        },
        "3dd2ab2a840540fabb320a35c745c6e3": {
          "model_module": "@jupyter-widgets/controls",
          "model_name": "HBoxModel",
          "model_module_version": "1.5.0",
          "state": {
            "_dom_classes": [],
            "_model_module": "@jupyter-widgets/controls",
            "_model_module_version": "1.5.0",
            "_model_name": "HBoxModel",
            "_view_count": null,
            "_view_module": "@jupyter-widgets/controls",
            "_view_module_version": "1.5.0",
            "_view_name": "HBoxView",
            "box_style": "",
            "children": [
              "IPY_MODEL_c0de1a93701e41a2b53765de36a7347b",
              "IPY_MODEL_8bff1e1ba33d45e988e3dfc8e8f3f68f",
              "IPY_MODEL_4a60b50da9b6479e8c7924899db11913"
            ],
            "layout": "IPY_MODEL_cf71a2a0b84046c098eaab7131f04f19"
          }
        },
        "c0de1a93701e41a2b53765de36a7347b": {
          "model_module": "@jupyter-widgets/controls",
          "model_name": "HTMLModel",
          "model_module_version": "1.5.0",
          "state": {
            "_dom_classes": [],
            "_model_module": "@jupyter-widgets/controls",
            "_model_module_version": "1.5.0",
            "_model_name": "HTMLModel",
            "_view_count": null,
            "_view_module": "@jupyter-widgets/controls",
            "_view_module_version": "1.5.0",
            "_view_name": "HTMLView",
            "description": "",
            "description_tooltip": null,
            "layout": "IPY_MODEL_9d393ebb0c7a47409d65b04f088eab26",
            "placeholder": "​",
            "style": "IPY_MODEL_4d4a1497f88e412e8f95fe428007609b",
            "value": "Downloading (…)lve/main/config.json: 100%"
          }
        },
        "8bff1e1ba33d45e988e3dfc8e8f3f68f": {
          "model_module": "@jupyter-widgets/controls",
          "model_name": "FloatProgressModel",
          "model_module_version": "1.5.0",
          "state": {
            "_dom_classes": [],
            "_model_module": "@jupyter-widgets/controls",
            "_model_module_version": "1.5.0",
            "_model_name": "FloatProgressModel",
            "_view_count": null,
            "_view_module": "@jupyter-widgets/controls",
            "_view_module_version": "1.5.0",
            "_view_name": "ProgressView",
            "bar_style": "success",
            "description": "",
            "description_tooltip": null,
            "layout": "IPY_MODEL_8ad6585c8df14368b894ac2abcc7133d",
            "max": 648,
            "min": 0,
            "orientation": "horizontal",
            "style": "IPY_MODEL_910a7e52f6e143b2a5ca70de6ac254cb",
            "value": 648
          }
        },
        "4a60b50da9b6479e8c7924899db11913": {
          "model_module": "@jupyter-widgets/controls",
          "model_name": "HTMLModel",
          "model_module_version": "1.5.0",
          "state": {
            "_dom_classes": [],
            "_model_module": "@jupyter-widgets/controls",
            "_model_module_version": "1.5.0",
            "_model_name": "HTMLModel",
            "_view_count": null,
            "_view_module": "@jupyter-widgets/controls",
            "_view_module_version": "1.5.0",
            "_view_name": "HTMLView",
            "description": "",
            "description_tooltip": null,
            "layout": "IPY_MODEL_0b181573a2f1498cacdd3b87f2d980a8",
            "placeholder": "​",
            "style": "IPY_MODEL_c18cebf381534262aa9af78f1652f514",
            "value": " 648/648 [00:00&lt;00:00, 35.7kB/s]"
          }
        },
        "cf71a2a0b84046c098eaab7131f04f19": {
          "model_module": "@jupyter-widgets/base",
          "model_name": "LayoutModel",
          "model_module_version": "1.2.0",
          "state": {
            "_model_module": "@jupyter-widgets/base",
            "_model_module_version": "1.2.0",
            "_model_name": "LayoutModel",
            "_view_count": null,
            "_view_module": "@jupyter-widgets/base",
            "_view_module_version": "1.2.0",
            "_view_name": "LayoutView",
            "align_content": null,
            "align_items": null,
            "align_self": null,
            "border": null,
            "bottom": null,
            "display": null,
            "flex": null,
            "flex_flow": null,
            "grid_area": null,
            "grid_auto_columns": null,
            "grid_auto_flow": null,
            "grid_auto_rows": null,
            "grid_column": null,
            "grid_gap": null,
            "grid_row": null,
            "grid_template_areas": null,
            "grid_template_columns": null,
            "grid_template_rows": null,
            "height": null,
            "justify_content": null,
            "justify_items": null,
            "left": null,
            "margin": null,
            "max_height": null,
            "max_width": null,
            "min_height": null,
            "min_width": null,
            "object_fit": null,
            "object_position": null,
            "order": null,
            "overflow": null,
            "overflow_x": null,
            "overflow_y": null,
            "padding": null,
            "right": null,
            "top": null,
            "visibility": null,
            "width": null
          }
        },
        "9d393ebb0c7a47409d65b04f088eab26": {
          "model_module": "@jupyter-widgets/base",
          "model_name": "LayoutModel",
          "model_module_version": "1.2.0",
          "state": {
            "_model_module": "@jupyter-widgets/base",
            "_model_module_version": "1.2.0",
            "_model_name": "LayoutModel",
            "_view_count": null,
            "_view_module": "@jupyter-widgets/base",
            "_view_module_version": "1.2.0",
            "_view_name": "LayoutView",
            "align_content": null,
            "align_items": null,
            "align_self": null,
            "border": null,
            "bottom": null,
            "display": null,
            "flex": null,
            "flex_flow": null,
            "grid_area": null,
            "grid_auto_columns": null,
            "grid_auto_flow": null,
            "grid_auto_rows": null,
            "grid_column": null,
            "grid_gap": null,
            "grid_row": null,
            "grid_template_areas": null,
            "grid_template_columns": null,
            "grid_template_rows": null,
            "height": null,
            "justify_content": null,
            "justify_items": null,
            "left": null,
            "margin": null,
            "max_height": null,
            "max_width": null,
            "min_height": null,
            "min_width": null,
            "object_fit": null,
            "object_position": null,
            "order": null,
            "overflow": null,
            "overflow_x": null,
            "overflow_y": null,
            "padding": null,
            "right": null,
            "top": null,
            "visibility": null,
            "width": null
          }
        },
        "4d4a1497f88e412e8f95fe428007609b": {
          "model_module": "@jupyter-widgets/controls",
          "model_name": "DescriptionStyleModel",
          "model_module_version": "1.5.0",
          "state": {
            "_model_module": "@jupyter-widgets/controls",
            "_model_module_version": "1.5.0",
            "_model_name": "DescriptionStyleModel",
            "_view_count": null,
            "_view_module": "@jupyter-widgets/base",
            "_view_module_version": "1.2.0",
            "_view_name": "StyleView",
            "description_width": ""
          }
        },
        "8ad6585c8df14368b894ac2abcc7133d": {
          "model_module": "@jupyter-widgets/base",
          "model_name": "LayoutModel",
          "model_module_version": "1.2.0",
          "state": {
            "_model_module": "@jupyter-widgets/base",
            "_model_module_version": "1.2.0",
            "_model_name": "LayoutModel",
            "_view_count": null,
            "_view_module": "@jupyter-widgets/base",
            "_view_module_version": "1.2.0",
            "_view_name": "LayoutView",
            "align_content": null,
            "align_items": null,
            "align_self": null,
            "border": null,
            "bottom": null,
            "display": null,
            "flex": null,
            "flex_flow": null,
            "grid_area": null,
            "grid_auto_columns": null,
            "grid_auto_flow": null,
            "grid_auto_rows": null,
            "grid_column": null,
            "grid_gap": null,
            "grid_row": null,
            "grid_template_areas": null,
            "grid_template_columns": null,
            "grid_template_rows": null,
            "height": null,
            "justify_content": null,
            "justify_items": null,
            "left": null,
            "margin": null,
            "max_height": null,
            "max_width": null,
            "min_height": null,
            "min_width": null,
            "object_fit": null,
            "object_position": null,
            "order": null,
            "overflow": null,
            "overflow_x": null,
            "overflow_y": null,
            "padding": null,
            "right": null,
            "top": null,
            "visibility": null,
            "width": null
          }
        },
        "910a7e52f6e143b2a5ca70de6ac254cb": {
          "model_module": "@jupyter-widgets/controls",
          "model_name": "ProgressStyleModel",
          "model_module_version": "1.5.0",
          "state": {
            "_model_module": "@jupyter-widgets/controls",
            "_model_module_version": "1.5.0",
            "_model_name": "ProgressStyleModel",
            "_view_count": null,
            "_view_module": "@jupyter-widgets/base",
            "_view_module_version": "1.2.0",
            "_view_name": "StyleView",
            "bar_color": null,
            "description_width": ""
          }
        },
        "0b181573a2f1498cacdd3b87f2d980a8": {
          "model_module": "@jupyter-widgets/base",
          "model_name": "LayoutModel",
          "model_module_version": "1.2.0",
          "state": {
            "_model_module": "@jupyter-widgets/base",
            "_model_module_version": "1.2.0",
            "_model_name": "LayoutModel",
            "_view_count": null,
            "_view_module": "@jupyter-widgets/base",
            "_view_module_version": "1.2.0",
            "_view_name": "LayoutView",
            "align_content": null,
            "align_items": null,
            "align_self": null,
            "border": null,
            "bottom": null,
            "display": null,
            "flex": null,
            "flex_flow": null,
            "grid_area": null,
            "grid_auto_columns": null,
            "grid_auto_flow": null,
            "grid_auto_rows": null,
            "grid_column": null,
            "grid_gap": null,
            "grid_row": null,
            "grid_template_areas": null,
            "grid_template_columns": null,
            "grid_template_rows": null,
            "height": null,
            "justify_content": null,
            "justify_items": null,
            "left": null,
            "margin": null,
            "max_height": null,
            "max_width": null,
            "min_height": null,
            "min_width": null,
            "object_fit": null,
            "object_position": null,
            "order": null,
            "overflow": null,
            "overflow_x": null,
            "overflow_y": null,
            "padding": null,
            "right": null,
            "top": null,
            "visibility": null,
            "width": null
          }
        },
        "c18cebf381534262aa9af78f1652f514": {
          "model_module": "@jupyter-widgets/controls",
          "model_name": "DescriptionStyleModel",
          "model_module_version": "1.5.0",
          "state": {
            "_model_module": "@jupyter-widgets/controls",
            "_model_module_version": "1.5.0",
            "_model_name": "DescriptionStyleModel",
            "_view_count": null,
            "_view_module": "@jupyter-widgets/base",
            "_view_module_version": "1.2.0",
            "_view_name": "StyleView",
            "description_width": ""
          }
        },
        "b6d4676fd6ba4175833d07842b3f97ee": {
          "model_module": "@jupyter-widgets/controls",
          "model_name": "HBoxModel",
          "model_module_version": "1.5.0",
          "state": {
            "_dom_classes": [],
            "_model_module": "@jupyter-widgets/controls",
            "_model_module_version": "1.5.0",
            "_model_name": "HBoxModel",
            "_view_count": null,
            "_view_module": "@jupyter-widgets/controls",
            "_view_module_version": "1.5.0",
            "_view_name": "HBoxView",
            "box_style": "",
            "children": [
              "IPY_MODEL_efbe0c33ae55497cbf4cda80b464e654",
              "IPY_MODEL_9eabc88fc8334ce7a03bfa9afe052615",
              "IPY_MODEL_a7fa0419b5214478b386649a68753e6b"
            ],
            "layout": "IPY_MODEL_1a4d731906844946a20f1d24fa99035f"
          }
        },
        "efbe0c33ae55497cbf4cda80b464e654": {
          "model_module": "@jupyter-widgets/controls",
          "model_name": "HTMLModel",
          "model_module_version": "1.5.0",
          "state": {
            "_dom_classes": [],
            "_model_module": "@jupyter-widgets/controls",
            "_model_module_version": "1.5.0",
            "_model_name": "HTMLModel",
            "_view_count": null,
            "_view_module": "@jupyter-widgets/controls",
            "_view_module_version": "1.5.0",
            "_view_name": "HTMLView",
            "description": "",
            "description_tooltip": null,
            "layout": "IPY_MODEL_e98b0597b4094c52adb5a3da67b17d7c",
            "placeholder": "​",
            "style": "IPY_MODEL_63810c7993fc43869c92b6d5cf2006d6",
            "value": "Downloading (…)solve/main/vocab.txt: 100%"
          }
        },
        "9eabc88fc8334ce7a03bfa9afe052615": {
          "model_module": "@jupyter-widgets/controls",
          "model_name": "FloatProgressModel",
          "model_module_version": "1.5.0",
          "state": {
            "_dom_classes": [],
            "_model_module": "@jupyter-widgets/controls",
            "_model_module_version": "1.5.0",
            "_model_name": "FloatProgressModel",
            "_view_count": null,
            "_view_module": "@jupyter-widgets/controls",
            "_view_module_version": "1.5.0",
            "_view_name": "ProgressView",
            "bar_style": "success",
            "description": "",
            "description_tooltip": null,
            "layout": "IPY_MODEL_3b15ce9eb66545db814e7ba9556c7f49",
            "max": 209528,
            "min": 0,
            "orientation": "horizontal",
            "style": "IPY_MODEL_57672938592b4b4ab5120eca355bcef8",
            "value": 209528
          }
        },
        "a7fa0419b5214478b386649a68753e6b": {
          "model_module": "@jupyter-widgets/controls",
          "model_name": "HTMLModel",
          "model_module_version": "1.5.0",
          "state": {
            "_dom_classes": [],
            "_model_module": "@jupyter-widgets/controls",
            "_model_module_version": "1.5.0",
            "_model_name": "HTMLModel",
            "_view_count": null,
            "_view_module": "@jupyter-widgets/controls",
            "_view_module_version": "1.5.0",
            "_view_name": "HTMLView",
            "description": "",
            "description_tooltip": null,
            "layout": "IPY_MODEL_deaf7ada95274f2593ba228de327746f",
            "placeholder": "​",
            "style": "IPY_MODEL_e6cb999579aa4e0c98c926f1bbe73af2",
            "value": " 210k/210k [00:00&lt;00:00, 4.57MB/s]"
          }
        },
        "1a4d731906844946a20f1d24fa99035f": {
          "model_module": "@jupyter-widgets/base",
          "model_name": "LayoutModel",
          "model_module_version": "1.2.0",
          "state": {
            "_model_module": "@jupyter-widgets/base",
            "_model_module_version": "1.2.0",
            "_model_name": "LayoutModel",
            "_view_count": null,
            "_view_module": "@jupyter-widgets/base",
            "_view_module_version": "1.2.0",
            "_view_name": "LayoutView",
            "align_content": null,
            "align_items": null,
            "align_self": null,
            "border": null,
            "bottom": null,
            "display": null,
            "flex": null,
            "flex_flow": null,
            "grid_area": null,
            "grid_auto_columns": null,
            "grid_auto_flow": null,
            "grid_auto_rows": null,
            "grid_column": null,
            "grid_gap": null,
            "grid_row": null,
            "grid_template_areas": null,
            "grid_template_columns": null,
            "grid_template_rows": null,
            "height": null,
            "justify_content": null,
            "justify_items": null,
            "left": null,
            "margin": null,
            "max_height": null,
            "max_width": null,
            "min_height": null,
            "min_width": null,
            "object_fit": null,
            "object_position": null,
            "order": null,
            "overflow": null,
            "overflow_x": null,
            "overflow_y": null,
            "padding": null,
            "right": null,
            "top": null,
            "visibility": null,
            "width": null
          }
        },
        "e98b0597b4094c52adb5a3da67b17d7c": {
          "model_module": "@jupyter-widgets/base",
          "model_name": "LayoutModel",
          "model_module_version": "1.2.0",
          "state": {
            "_model_module": "@jupyter-widgets/base",
            "_model_module_version": "1.2.0",
            "_model_name": "LayoutModel",
            "_view_count": null,
            "_view_module": "@jupyter-widgets/base",
            "_view_module_version": "1.2.0",
            "_view_name": "LayoutView",
            "align_content": null,
            "align_items": null,
            "align_self": null,
            "border": null,
            "bottom": null,
            "display": null,
            "flex": null,
            "flex_flow": null,
            "grid_area": null,
            "grid_auto_columns": null,
            "grid_auto_flow": null,
            "grid_auto_rows": null,
            "grid_column": null,
            "grid_gap": null,
            "grid_row": null,
            "grid_template_areas": null,
            "grid_template_columns": null,
            "grid_template_rows": null,
            "height": null,
            "justify_content": null,
            "justify_items": null,
            "left": null,
            "margin": null,
            "max_height": null,
            "max_width": null,
            "min_height": null,
            "min_width": null,
            "object_fit": null,
            "object_position": null,
            "order": null,
            "overflow": null,
            "overflow_x": null,
            "overflow_y": null,
            "padding": null,
            "right": null,
            "top": null,
            "visibility": null,
            "width": null
          }
        },
        "63810c7993fc43869c92b6d5cf2006d6": {
          "model_module": "@jupyter-widgets/controls",
          "model_name": "DescriptionStyleModel",
          "model_module_version": "1.5.0",
          "state": {
            "_model_module": "@jupyter-widgets/controls",
            "_model_module_version": "1.5.0",
            "_model_name": "DescriptionStyleModel",
            "_view_count": null,
            "_view_module": "@jupyter-widgets/base",
            "_view_module_version": "1.2.0",
            "_view_name": "StyleView",
            "description_width": ""
          }
        },
        "3b15ce9eb66545db814e7ba9556c7f49": {
          "model_module": "@jupyter-widgets/base",
          "model_name": "LayoutModel",
          "model_module_version": "1.2.0",
          "state": {
            "_model_module": "@jupyter-widgets/base",
            "_model_module_version": "1.2.0",
            "_model_name": "LayoutModel",
            "_view_count": null,
            "_view_module": "@jupyter-widgets/base",
            "_view_module_version": "1.2.0",
            "_view_name": "LayoutView",
            "align_content": null,
            "align_items": null,
            "align_self": null,
            "border": null,
            "bottom": null,
            "display": null,
            "flex": null,
            "flex_flow": null,
            "grid_area": null,
            "grid_auto_columns": null,
            "grid_auto_flow": null,
            "grid_auto_rows": null,
            "grid_column": null,
            "grid_gap": null,
            "grid_row": null,
            "grid_template_areas": null,
            "grid_template_columns": null,
            "grid_template_rows": null,
            "height": null,
            "justify_content": null,
            "justify_items": null,
            "left": null,
            "margin": null,
            "max_height": null,
            "max_width": null,
            "min_height": null,
            "min_width": null,
            "object_fit": null,
            "object_position": null,
            "order": null,
            "overflow": null,
            "overflow_x": null,
            "overflow_y": null,
            "padding": null,
            "right": null,
            "top": null,
            "visibility": null,
            "width": null
          }
        },
        "57672938592b4b4ab5120eca355bcef8": {
          "model_module": "@jupyter-widgets/controls",
          "model_name": "ProgressStyleModel",
          "model_module_version": "1.5.0",
          "state": {
            "_model_module": "@jupyter-widgets/controls",
            "_model_module_version": "1.5.0",
            "_model_name": "ProgressStyleModel",
            "_view_count": null,
            "_view_module": "@jupyter-widgets/base",
            "_view_module_version": "1.2.0",
            "_view_name": "StyleView",
            "bar_color": null,
            "description_width": ""
          }
        },
        "deaf7ada95274f2593ba228de327746f": {
          "model_module": "@jupyter-widgets/base",
          "model_name": "LayoutModel",
          "model_module_version": "1.2.0",
          "state": {
            "_model_module": "@jupyter-widgets/base",
            "_model_module_version": "1.2.0",
            "_model_name": "LayoutModel",
            "_view_count": null,
            "_view_module": "@jupyter-widgets/base",
            "_view_module_version": "1.2.0",
            "_view_name": "LayoutView",
            "align_content": null,
            "align_items": null,
            "align_self": null,
            "border": null,
            "bottom": null,
            "display": null,
            "flex": null,
            "flex_flow": null,
            "grid_area": null,
            "grid_auto_columns": null,
            "grid_auto_flow": null,
            "grid_auto_rows": null,
            "grid_column": null,
            "grid_gap": null,
            "grid_row": null,
            "grid_template_areas": null,
            "grid_template_columns": null,
            "grid_template_rows": null,
            "height": null,
            "justify_content": null,
            "justify_items": null,
            "left": null,
            "margin": null,
            "max_height": null,
            "max_width": null,
            "min_height": null,
            "min_width": null,
            "object_fit": null,
            "object_position": null,
            "order": null,
            "overflow": null,
            "overflow_x": null,
            "overflow_y": null,
            "padding": null,
            "right": null,
            "top": null,
            "visibility": null,
            "width": null
          }
        },
        "e6cb999579aa4e0c98c926f1bbe73af2": {
          "model_module": "@jupyter-widgets/controls",
          "model_name": "DescriptionStyleModel",
          "model_module_version": "1.5.0",
          "state": {
            "_model_module": "@jupyter-widgets/controls",
            "_model_module_version": "1.5.0",
            "_model_name": "DescriptionStyleModel",
            "_view_count": null,
            "_view_module": "@jupyter-widgets/base",
            "_view_module_version": "1.2.0",
            "_view_name": "StyleView",
            "description_width": ""
          }
        },
        "570ae28027ef4fe285191d4e4ad7c254": {
          "model_module": "@jupyter-widgets/controls",
          "model_name": "HBoxModel",
          "model_module_version": "1.5.0",
          "state": {
            "_dom_classes": [],
            "_model_module": "@jupyter-widgets/controls",
            "_model_module_version": "1.5.0",
            "_model_name": "HBoxModel",
            "_view_count": null,
            "_view_module": "@jupyter-widgets/controls",
            "_view_module_version": "1.5.0",
            "_view_name": "HBoxView",
            "box_style": "",
            "children": [
              "IPY_MODEL_14b940f5a7ec44b283139c3aea3c7154",
              "IPY_MODEL_026d7399d4e34fbaa1884bbb59fbcbe6",
              "IPY_MODEL_b8e9108e3527440580e23dd5b8f236a0"
            ],
            "layout": "IPY_MODEL_11ab71e2eea84874bcf1373a2e303188"
          }
        },
        "14b940f5a7ec44b283139c3aea3c7154": {
          "model_module": "@jupyter-widgets/controls",
          "model_name": "HTMLModel",
          "model_module_version": "1.5.0",
          "state": {
            "_dom_classes": [],
            "_model_module": "@jupyter-widgets/controls",
            "_model_module_version": "1.5.0",
            "_model_name": "HTMLModel",
            "_view_count": null,
            "_view_module": "@jupyter-widgets/controls",
            "_view_module_version": "1.5.0",
            "_view_name": "HTMLView",
            "description": "",
            "description_tooltip": null,
            "layout": "IPY_MODEL_af4b9cdcf8e340c2a96a2d5fed0528f3",
            "placeholder": "​",
            "style": "IPY_MODEL_9a9f5f24badc48acb9f970fb3762002c",
            "value": "Downloading (…)in/added_tokens.json: 100%"
          }
        },
        "026d7399d4e34fbaa1884bbb59fbcbe6": {
          "model_module": "@jupyter-widgets/controls",
          "model_name": "FloatProgressModel",
          "model_module_version": "1.5.0",
          "state": {
            "_dom_classes": [],
            "_model_module": "@jupyter-widgets/controls",
            "_model_module_version": "1.5.0",
            "_model_name": "FloatProgressModel",
            "_view_count": null,
            "_view_module": "@jupyter-widgets/controls",
            "_view_module_version": "1.5.0",
            "_view_name": "ProgressView",
            "bar_style": "success",
            "description": "",
            "description_tooltip": null,
            "layout": "IPY_MODEL_50a3288ab7434e8aa42cb77020abe7f9",
            "max": 2,
            "min": 0,
            "orientation": "horizontal",
            "style": "IPY_MODEL_1799bb1e2a6248d1aadd93a86f3aea01",
            "value": 2
          }
        },
        "b8e9108e3527440580e23dd5b8f236a0": {
          "model_module": "@jupyter-widgets/controls",
          "model_name": "HTMLModel",
          "model_module_version": "1.5.0",
          "state": {
            "_dom_classes": [],
            "_model_module": "@jupyter-widgets/controls",
            "_model_module_version": "1.5.0",
            "_model_name": "HTMLModel",
            "_view_count": null,
            "_view_module": "@jupyter-widgets/controls",
            "_view_module_version": "1.5.0",
            "_view_name": "HTMLView",
            "description": "",
            "description_tooltip": null,
            "layout": "IPY_MODEL_28a3735fb0f440bd9425d82929500916",
            "placeholder": "​",
            "style": "IPY_MODEL_a71c42f5246342be9f8337da997a80e9",
            "value": " 2.00/2.00 [00:00&lt;00:00, 116B/s]"
          }
        },
        "11ab71e2eea84874bcf1373a2e303188": {
          "model_module": "@jupyter-widgets/base",
          "model_name": "LayoutModel",
          "model_module_version": "1.2.0",
          "state": {
            "_model_module": "@jupyter-widgets/base",
            "_model_module_version": "1.2.0",
            "_model_name": "LayoutModel",
            "_view_count": null,
            "_view_module": "@jupyter-widgets/base",
            "_view_module_version": "1.2.0",
            "_view_name": "LayoutView",
            "align_content": null,
            "align_items": null,
            "align_self": null,
            "border": null,
            "bottom": null,
            "display": null,
            "flex": null,
            "flex_flow": null,
            "grid_area": null,
            "grid_auto_columns": null,
            "grid_auto_flow": null,
            "grid_auto_rows": null,
            "grid_column": null,
            "grid_gap": null,
            "grid_row": null,
            "grid_template_areas": null,
            "grid_template_columns": null,
            "grid_template_rows": null,
            "height": null,
            "justify_content": null,
            "justify_items": null,
            "left": null,
            "margin": null,
            "max_height": null,
            "max_width": null,
            "min_height": null,
            "min_width": null,
            "object_fit": null,
            "object_position": null,
            "order": null,
            "overflow": null,
            "overflow_x": null,
            "overflow_y": null,
            "padding": null,
            "right": null,
            "top": null,
            "visibility": null,
            "width": null
          }
        },
        "af4b9cdcf8e340c2a96a2d5fed0528f3": {
          "model_module": "@jupyter-widgets/base",
          "model_name": "LayoutModel",
          "model_module_version": "1.2.0",
          "state": {
            "_model_module": "@jupyter-widgets/base",
            "_model_module_version": "1.2.0",
            "_model_name": "LayoutModel",
            "_view_count": null,
            "_view_module": "@jupyter-widgets/base",
            "_view_module_version": "1.2.0",
            "_view_name": "LayoutView",
            "align_content": null,
            "align_items": null,
            "align_self": null,
            "border": null,
            "bottom": null,
            "display": null,
            "flex": null,
            "flex_flow": null,
            "grid_area": null,
            "grid_auto_columns": null,
            "grid_auto_flow": null,
            "grid_auto_rows": null,
            "grid_column": null,
            "grid_gap": null,
            "grid_row": null,
            "grid_template_areas": null,
            "grid_template_columns": null,
            "grid_template_rows": null,
            "height": null,
            "justify_content": null,
            "justify_items": null,
            "left": null,
            "margin": null,
            "max_height": null,
            "max_width": null,
            "min_height": null,
            "min_width": null,
            "object_fit": null,
            "object_position": null,
            "order": null,
            "overflow": null,
            "overflow_x": null,
            "overflow_y": null,
            "padding": null,
            "right": null,
            "top": null,
            "visibility": null,
            "width": null
          }
        },
        "9a9f5f24badc48acb9f970fb3762002c": {
          "model_module": "@jupyter-widgets/controls",
          "model_name": "DescriptionStyleModel",
          "model_module_version": "1.5.0",
          "state": {
            "_model_module": "@jupyter-widgets/controls",
            "_model_module_version": "1.5.0",
            "_model_name": "DescriptionStyleModel",
            "_view_count": null,
            "_view_module": "@jupyter-widgets/base",
            "_view_module_version": "1.2.0",
            "_view_name": "StyleView",
            "description_width": ""
          }
        },
        "50a3288ab7434e8aa42cb77020abe7f9": {
          "model_module": "@jupyter-widgets/base",
          "model_name": "LayoutModel",
          "model_module_version": "1.2.0",
          "state": {
            "_model_module": "@jupyter-widgets/base",
            "_model_module_version": "1.2.0",
            "_model_name": "LayoutModel",
            "_view_count": null,
            "_view_module": "@jupyter-widgets/base",
            "_view_module_version": "1.2.0",
            "_view_name": "LayoutView",
            "align_content": null,
            "align_items": null,
            "align_self": null,
            "border": null,
            "bottom": null,
            "display": null,
            "flex": null,
            "flex_flow": null,
            "grid_area": null,
            "grid_auto_columns": null,
            "grid_auto_flow": null,
            "grid_auto_rows": null,
            "grid_column": null,
            "grid_gap": null,
            "grid_row": null,
            "grid_template_areas": null,
            "grid_template_columns": null,
            "grid_template_rows": null,
            "height": null,
            "justify_content": null,
            "justify_items": null,
            "left": null,
            "margin": null,
            "max_height": null,
            "max_width": null,
            "min_height": null,
            "min_width": null,
            "object_fit": null,
            "object_position": null,
            "order": null,
            "overflow": null,
            "overflow_x": null,
            "overflow_y": null,
            "padding": null,
            "right": null,
            "top": null,
            "visibility": null,
            "width": null
          }
        },
        "1799bb1e2a6248d1aadd93a86f3aea01": {
          "model_module": "@jupyter-widgets/controls",
          "model_name": "ProgressStyleModel",
          "model_module_version": "1.5.0",
          "state": {
            "_model_module": "@jupyter-widgets/controls",
            "_model_module_version": "1.5.0",
            "_model_name": "ProgressStyleModel",
            "_view_count": null,
            "_view_module": "@jupyter-widgets/base",
            "_view_module_version": "1.2.0",
            "_view_name": "StyleView",
            "bar_color": null,
            "description_width": ""
          }
        },
        "28a3735fb0f440bd9425d82929500916": {
          "model_module": "@jupyter-widgets/base",
          "model_name": "LayoutModel",
          "model_module_version": "1.2.0",
          "state": {
            "_model_module": "@jupyter-widgets/base",
            "_model_module_version": "1.2.0",
            "_model_name": "LayoutModel",
            "_view_count": null,
            "_view_module": "@jupyter-widgets/base",
            "_view_module_version": "1.2.0",
            "_view_name": "LayoutView",
            "align_content": null,
            "align_items": null,
            "align_self": null,
            "border": null,
            "bottom": null,
            "display": null,
            "flex": null,
            "flex_flow": null,
            "grid_area": null,
            "grid_auto_columns": null,
            "grid_auto_flow": null,
            "grid_auto_rows": null,
            "grid_column": null,
            "grid_gap": null,
            "grid_row": null,
            "grid_template_areas": null,
            "grid_template_columns": null,
            "grid_template_rows": null,
            "height": null,
            "justify_content": null,
            "justify_items": null,
            "left": null,
            "margin": null,
            "max_height": null,
            "max_width": null,
            "min_height": null,
            "min_width": null,
            "object_fit": null,
            "object_position": null,
            "order": null,
            "overflow": null,
            "overflow_x": null,
            "overflow_y": null,
            "padding": null,
            "right": null,
            "top": null,
            "visibility": null,
            "width": null
          }
        },
        "a71c42f5246342be9f8337da997a80e9": {
          "model_module": "@jupyter-widgets/controls",
          "model_name": "DescriptionStyleModel",
          "model_module_version": "1.5.0",
          "state": {
            "_model_module": "@jupyter-widgets/controls",
            "_model_module_version": "1.5.0",
            "_model_name": "DescriptionStyleModel",
            "_view_count": null,
            "_view_module": "@jupyter-widgets/base",
            "_view_module_version": "1.2.0",
            "_view_name": "StyleView",
            "description_width": ""
          }
        },
        "675a4599ad54491f9ef4ec1b84bd4280": {
          "model_module": "@jupyter-widgets/controls",
          "model_name": "HBoxModel",
          "model_module_version": "1.5.0",
          "state": {
            "_dom_classes": [],
            "_model_module": "@jupyter-widgets/controls",
            "_model_module_version": "1.5.0",
            "_model_name": "HBoxModel",
            "_view_count": null,
            "_view_module": "@jupyter-widgets/controls",
            "_view_module_version": "1.5.0",
            "_view_name": "HBoxView",
            "box_style": "",
            "children": [
              "IPY_MODEL_0c810cf5c50245169f6e85f8114778ac",
              "IPY_MODEL_7184722836274945ab4016b94585d48a",
              "IPY_MODEL_473ef5bb36e144ecb3792adb3a36efcc"
            ],
            "layout": "IPY_MODEL_e34781073ade49bea6db7ba888a0dcf5"
          }
        },
        "0c810cf5c50245169f6e85f8114778ac": {
          "model_module": "@jupyter-widgets/controls",
          "model_name": "HTMLModel",
          "model_module_version": "1.5.0",
          "state": {
            "_dom_classes": [],
            "_model_module": "@jupyter-widgets/controls",
            "_model_module_version": "1.5.0",
            "_model_name": "HTMLModel",
            "_view_count": null,
            "_view_module": "@jupyter-widgets/controls",
            "_view_module_version": "1.5.0",
            "_view_name": "HTMLView",
            "description": "",
            "description_tooltip": null,
            "layout": "IPY_MODEL_c147520ce22b40a096f5d80dc39d7726",
            "placeholder": "​",
            "style": "IPY_MODEL_8347b24c4ed740089e492bde017bed2e",
            "value": "Downloading (…)cial_tokens_map.json: 100%"
          }
        },
        "7184722836274945ab4016b94585d48a": {
          "model_module": "@jupyter-widgets/controls",
          "model_name": "FloatProgressModel",
          "model_module_version": "1.5.0",
          "state": {
            "_dom_classes": [],
            "_model_module": "@jupyter-widgets/controls",
            "_model_module_version": "1.5.0",
            "_model_name": "FloatProgressModel",
            "_view_count": null,
            "_view_module": "@jupyter-widgets/controls",
            "_view_module_version": "1.5.0",
            "_view_name": "ProgressView",
            "bar_style": "success",
            "description": "",
            "description_tooltip": null,
            "layout": "IPY_MODEL_9247cda84a5748a28fb398090a1a3590",
            "max": 112,
            "min": 0,
            "orientation": "horizontal",
            "style": "IPY_MODEL_fe0831161a424c9fb5ce8c960b90738b",
            "value": 112
          }
        },
        "473ef5bb36e144ecb3792adb3a36efcc": {
          "model_module": "@jupyter-widgets/controls",
          "model_name": "HTMLModel",
          "model_module_version": "1.5.0",
          "state": {
            "_dom_classes": [],
            "_model_module": "@jupyter-widgets/controls",
            "_model_module_version": "1.5.0",
            "_model_name": "HTMLModel",
            "_view_count": null,
            "_view_module": "@jupyter-widgets/controls",
            "_view_module_version": "1.5.0",
            "_view_name": "HTMLView",
            "description": "",
            "description_tooltip": null,
            "layout": "IPY_MODEL_4101990c8d8e429385e4e2de5b98b4a2",
            "placeholder": "​",
            "style": "IPY_MODEL_4412cc849d484a9fb4223adeed438d93",
            "value": " 112/112 [00:00&lt;00:00, 6.72kB/s]"
          }
        },
        "e34781073ade49bea6db7ba888a0dcf5": {
          "model_module": "@jupyter-widgets/base",
          "model_name": "LayoutModel",
          "model_module_version": "1.2.0",
          "state": {
            "_model_module": "@jupyter-widgets/base",
            "_model_module_version": "1.2.0",
            "_model_name": "LayoutModel",
            "_view_count": null,
            "_view_module": "@jupyter-widgets/base",
            "_view_module_version": "1.2.0",
            "_view_name": "LayoutView",
            "align_content": null,
            "align_items": null,
            "align_self": null,
            "border": null,
            "bottom": null,
            "display": null,
            "flex": null,
            "flex_flow": null,
            "grid_area": null,
            "grid_auto_columns": null,
            "grid_auto_flow": null,
            "grid_auto_rows": null,
            "grid_column": null,
            "grid_gap": null,
            "grid_row": null,
            "grid_template_areas": null,
            "grid_template_columns": null,
            "grid_template_rows": null,
            "height": null,
            "justify_content": null,
            "justify_items": null,
            "left": null,
            "margin": null,
            "max_height": null,
            "max_width": null,
            "min_height": null,
            "min_width": null,
            "object_fit": null,
            "object_position": null,
            "order": null,
            "overflow": null,
            "overflow_x": null,
            "overflow_y": null,
            "padding": null,
            "right": null,
            "top": null,
            "visibility": null,
            "width": null
          }
        },
        "c147520ce22b40a096f5d80dc39d7726": {
          "model_module": "@jupyter-widgets/base",
          "model_name": "LayoutModel",
          "model_module_version": "1.2.0",
          "state": {
            "_model_module": "@jupyter-widgets/base",
            "_model_module_version": "1.2.0",
            "_model_name": "LayoutModel",
            "_view_count": null,
            "_view_module": "@jupyter-widgets/base",
            "_view_module_version": "1.2.0",
            "_view_name": "LayoutView",
            "align_content": null,
            "align_items": null,
            "align_self": null,
            "border": null,
            "bottom": null,
            "display": null,
            "flex": null,
            "flex_flow": null,
            "grid_area": null,
            "grid_auto_columns": null,
            "grid_auto_flow": null,
            "grid_auto_rows": null,
            "grid_column": null,
            "grid_gap": null,
            "grid_row": null,
            "grid_template_areas": null,
            "grid_template_columns": null,
            "grid_template_rows": null,
            "height": null,
            "justify_content": null,
            "justify_items": null,
            "left": null,
            "margin": null,
            "max_height": null,
            "max_width": null,
            "min_height": null,
            "min_width": null,
            "object_fit": null,
            "object_position": null,
            "order": null,
            "overflow": null,
            "overflow_x": null,
            "overflow_y": null,
            "padding": null,
            "right": null,
            "top": null,
            "visibility": null,
            "width": null
          }
        },
        "8347b24c4ed740089e492bde017bed2e": {
          "model_module": "@jupyter-widgets/controls",
          "model_name": "DescriptionStyleModel",
          "model_module_version": "1.5.0",
          "state": {
            "_model_module": "@jupyter-widgets/controls",
            "_model_module_version": "1.5.0",
            "_model_name": "DescriptionStyleModel",
            "_view_count": null,
            "_view_module": "@jupyter-widgets/base",
            "_view_module_version": "1.2.0",
            "_view_name": "StyleView",
            "description_width": ""
          }
        },
        "9247cda84a5748a28fb398090a1a3590": {
          "model_module": "@jupyter-widgets/base",
          "model_name": "LayoutModel",
          "model_module_version": "1.2.0",
          "state": {
            "_model_module": "@jupyter-widgets/base",
            "_model_module_version": "1.2.0",
            "_model_name": "LayoutModel",
            "_view_count": null,
            "_view_module": "@jupyter-widgets/base",
            "_view_module_version": "1.2.0",
            "_view_name": "LayoutView",
            "align_content": null,
            "align_items": null,
            "align_self": null,
            "border": null,
            "bottom": null,
            "display": null,
            "flex": null,
            "flex_flow": null,
            "grid_area": null,
            "grid_auto_columns": null,
            "grid_auto_flow": null,
            "grid_auto_rows": null,
            "grid_column": null,
            "grid_gap": null,
            "grid_row": null,
            "grid_template_areas": null,
            "grid_template_columns": null,
            "grid_template_rows": null,
            "height": null,
            "justify_content": null,
            "justify_items": null,
            "left": null,
            "margin": null,
            "max_height": null,
            "max_width": null,
            "min_height": null,
            "min_width": null,
            "object_fit": null,
            "object_position": null,
            "order": null,
            "overflow": null,
            "overflow_x": null,
            "overflow_y": null,
            "padding": null,
            "right": null,
            "top": null,
            "visibility": null,
            "width": null
          }
        },
        "fe0831161a424c9fb5ce8c960b90738b": {
          "model_module": "@jupyter-widgets/controls",
          "model_name": "ProgressStyleModel",
          "model_module_version": "1.5.0",
          "state": {
            "_model_module": "@jupyter-widgets/controls",
            "_model_module_version": "1.5.0",
            "_model_name": "ProgressStyleModel",
            "_view_count": null,
            "_view_module": "@jupyter-widgets/base",
            "_view_module_version": "1.2.0",
            "_view_name": "StyleView",
            "bar_color": null,
            "description_width": ""
          }
        },
        "4101990c8d8e429385e4e2de5b98b4a2": {
          "model_module": "@jupyter-widgets/base",
          "model_name": "LayoutModel",
          "model_module_version": "1.2.0",
          "state": {
            "_model_module": "@jupyter-widgets/base",
            "_model_module_version": "1.2.0",
            "_model_name": "LayoutModel",
            "_view_count": null,
            "_view_module": "@jupyter-widgets/base",
            "_view_module_version": "1.2.0",
            "_view_name": "LayoutView",
            "align_content": null,
            "align_items": null,
            "align_self": null,
            "border": null,
            "bottom": null,
            "display": null,
            "flex": null,
            "flex_flow": null,
            "grid_area": null,
            "grid_auto_columns": null,
            "grid_auto_flow": null,
            "grid_auto_rows": null,
            "grid_column": null,
            "grid_gap": null,
            "grid_row": null,
            "grid_template_areas": null,
            "grid_template_columns": null,
            "grid_template_rows": null,
            "height": null,
            "justify_content": null,
            "justify_items": null,
            "left": null,
            "margin": null,
            "max_height": null,
            "max_width": null,
            "min_height": null,
            "min_width": null,
            "object_fit": null,
            "object_position": null,
            "order": null,
            "overflow": null,
            "overflow_x": null,
            "overflow_y": null,
            "padding": null,
            "right": null,
            "top": null,
            "visibility": null,
            "width": null
          }
        },
        "4412cc849d484a9fb4223adeed438d93": {
          "model_module": "@jupyter-widgets/controls",
          "model_name": "DescriptionStyleModel",
          "model_module_version": "1.5.0",
          "state": {
            "_model_module": "@jupyter-widgets/controls",
            "_model_module_version": "1.5.0",
            "_model_name": "DescriptionStyleModel",
            "_view_count": null,
            "_view_module": "@jupyter-widgets/base",
            "_view_module_version": "1.2.0",
            "_view_name": "StyleView",
            "description_width": ""
          }
        },
        "e4112aa69a9a4a56b5b07f0f9a4247c4": {
          "model_module": "@jupyter-widgets/controls",
          "model_name": "HBoxModel",
          "model_module_version": "1.5.0",
          "state": {
            "_dom_classes": [],
            "_model_module": "@jupyter-widgets/controls",
            "_model_module_version": "1.5.0",
            "_model_name": "HBoxModel",
            "_view_count": null,
            "_view_module": "@jupyter-widgets/controls",
            "_view_module_version": "1.5.0",
            "_view_name": "HBoxView",
            "box_style": "",
            "children": [
              "IPY_MODEL_cc6c5f0695be4922928ea83b40927a4d",
              "IPY_MODEL_2bca7dfcdfda490aa718a6a2ada9fa65",
              "IPY_MODEL_0f2de58035944216837d29503ffceec8"
            ],
            "layout": "IPY_MODEL_09bc60fb00c34bc7acd5ba036e6edfc6"
          }
        },
        "cc6c5f0695be4922928ea83b40927a4d": {
          "model_module": "@jupyter-widgets/controls",
          "model_name": "HTMLModel",
          "model_module_version": "1.5.0",
          "state": {
            "_dom_classes": [],
            "_model_module": "@jupyter-widgets/controls",
            "_model_module_version": "1.5.0",
            "_model_name": "HTMLModel",
            "_view_count": null,
            "_view_module": "@jupyter-widgets/controls",
            "_view_module_version": "1.5.0",
            "_view_name": "HTMLView",
            "description": "",
            "description_tooltip": null,
            "layout": "IPY_MODEL_82320568cad74e4eb6d11bd612cf6518",
            "placeholder": "​",
            "style": "IPY_MODEL_538b78b1a05642968fd5d9dc45000ff2",
            "value": "Downloading pytorch_model.bin: 100%"
          }
        },
        "2bca7dfcdfda490aa718a6a2ada9fa65": {
          "model_module": "@jupyter-widgets/controls",
          "model_name": "FloatProgressModel",
          "model_module_version": "1.5.0",
          "state": {
            "_dom_classes": [],
            "_model_module": "@jupyter-widgets/controls",
            "_model_module_version": "1.5.0",
            "_model_name": "FloatProgressModel",
            "_view_count": null,
            "_view_module": "@jupyter-widgets/controls",
            "_view_module_version": "1.5.0",
            "_view_name": "ProgressView",
            "bar_style": "success",
            "description": "",
            "description_tooltip": null,
            "layout": "IPY_MODEL_39227c5a24e74e60930f2bee44194f65",
            "max": 1342014951,
            "min": 0,
            "orientation": "horizontal",
            "style": "IPY_MODEL_bef4310de7af4770a1acc2ee1bc5718d",
            "value": 1342014951
          }
        },
        "0f2de58035944216837d29503ffceec8": {
          "model_module": "@jupyter-widgets/controls",
          "model_name": "HTMLModel",
          "model_module_version": "1.5.0",
          "state": {
            "_dom_classes": [],
            "_model_module": "@jupyter-widgets/controls",
            "_model_module_version": "1.5.0",
            "_model_name": "HTMLModel",
            "_view_count": null,
            "_view_module": "@jupyter-widgets/controls",
            "_view_module_version": "1.5.0",
            "_view_name": "HTMLView",
            "description": "",
            "description_tooltip": null,
            "layout": "IPY_MODEL_aff186e1d5e14de9a0b97666fff7eaac",
            "placeholder": "​",
            "style": "IPY_MODEL_bf7f111c2c344d53b12c9f7ff2b2b0e8",
            "value": " 1.34G/1.34G [00:12&lt;00:00, 156MB/s]"
          }
        },
        "09bc60fb00c34bc7acd5ba036e6edfc6": {
          "model_module": "@jupyter-widgets/base",
          "model_name": "LayoutModel",
          "model_module_version": "1.2.0",
          "state": {
            "_model_module": "@jupyter-widgets/base",
            "_model_module_version": "1.2.0",
            "_model_name": "LayoutModel",
            "_view_count": null,
            "_view_module": "@jupyter-widgets/base",
            "_view_module_version": "1.2.0",
            "_view_name": "LayoutView",
            "align_content": null,
            "align_items": null,
            "align_self": null,
            "border": null,
            "bottom": null,
            "display": null,
            "flex": null,
            "flex_flow": null,
            "grid_area": null,
            "grid_auto_columns": null,
            "grid_auto_flow": null,
            "grid_auto_rows": null,
            "grid_column": null,
            "grid_gap": null,
            "grid_row": null,
            "grid_template_areas": null,
            "grid_template_columns": null,
            "grid_template_rows": null,
            "height": null,
            "justify_content": null,
            "justify_items": null,
            "left": null,
            "margin": null,
            "max_height": null,
            "max_width": null,
            "min_height": null,
            "min_width": null,
            "object_fit": null,
            "object_position": null,
            "order": null,
            "overflow": null,
            "overflow_x": null,
            "overflow_y": null,
            "padding": null,
            "right": null,
            "top": null,
            "visibility": null,
            "width": null
          }
        },
        "82320568cad74e4eb6d11bd612cf6518": {
          "model_module": "@jupyter-widgets/base",
          "model_name": "LayoutModel",
          "model_module_version": "1.2.0",
          "state": {
            "_model_module": "@jupyter-widgets/base",
            "_model_module_version": "1.2.0",
            "_model_name": "LayoutModel",
            "_view_count": null,
            "_view_module": "@jupyter-widgets/base",
            "_view_module_version": "1.2.0",
            "_view_name": "LayoutView",
            "align_content": null,
            "align_items": null,
            "align_self": null,
            "border": null,
            "bottom": null,
            "display": null,
            "flex": null,
            "flex_flow": null,
            "grid_area": null,
            "grid_auto_columns": null,
            "grid_auto_flow": null,
            "grid_auto_rows": null,
            "grid_column": null,
            "grid_gap": null,
            "grid_row": null,
            "grid_template_areas": null,
            "grid_template_columns": null,
            "grid_template_rows": null,
            "height": null,
            "justify_content": null,
            "justify_items": null,
            "left": null,
            "margin": null,
            "max_height": null,
            "max_width": null,
            "min_height": null,
            "min_width": null,
            "object_fit": null,
            "object_position": null,
            "order": null,
            "overflow": null,
            "overflow_x": null,
            "overflow_y": null,
            "padding": null,
            "right": null,
            "top": null,
            "visibility": null,
            "width": null
          }
        },
        "538b78b1a05642968fd5d9dc45000ff2": {
          "model_module": "@jupyter-widgets/controls",
          "model_name": "DescriptionStyleModel",
          "model_module_version": "1.5.0",
          "state": {
            "_model_module": "@jupyter-widgets/controls",
            "_model_module_version": "1.5.0",
            "_model_name": "DescriptionStyleModel",
            "_view_count": null,
            "_view_module": "@jupyter-widgets/base",
            "_view_module_version": "1.2.0",
            "_view_name": "StyleView",
            "description_width": ""
          }
        },
        "39227c5a24e74e60930f2bee44194f65": {
          "model_module": "@jupyter-widgets/base",
          "model_name": "LayoutModel",
          "model_module_version": "1.2.0",
          "state": {
            "_model_module": "@jupyter-widgets/base",
            "_model_module_version": "1.2.0",
            "_model_name": "LayoutModel",
            "_view_count": null,
            "_view_module": "@jupyter-widgets/base",
            "_view_module_version": "1.2.0",
            "_view_name": "LayoutView",
            "align_content": null,
            "align_items": null,
            "align_self": null,
            "border": null,
            "bottom": null,
            "display": null,
            "flex": null,
            "flex_flow": null,
            "grid_area": null,
            "grid_auto_columns": null,
            "grid_auto_flow": null,
            "grid_auto_rows": null,
            "grid_column": null,
            "grid_gap": null,
            "grid_row": null,
            "grid_template_areas": null,
            "grid_template_columns": null,
            "grid_template_rows": null,
            "height": null,
            "justify_content": null,
            "justify_items": null,
            "left": null,
            "margin": null,
            "max_height": null,
            "max_width": null,
            "min_height": null,
            "min_width": null,
            "object_fit": null,
            "object_position": null,
            "order": null,
            "overflow": null,
            "overflow_x": null,
            "overflow_y": null,
            "padding": null,
            "right": null,
            "top": null,
            "visibility": null,
            "width": null
          }
        },
        "bef4310de7af4770a1acc2ee1bc5718d": {
          "model_module": "@jupyter-widgets/controls",
          "model_name": "ProgressStyleModel",
          "model_module_version": "1.5.0",
          "state": {
            "_model_module": "@jupyter-widgets/controls",
            "_model_module_version": "1.5.0",
            "_model_name": "ProgressStyleModel",
            "_view_count": null,
            "_view_module": "@jupyter-widgets/base",
            "_view_module_version": "1.2.0",
            "_view_name": "StyleView",
            "bar_color": null,
            "description_width": ""
          }
        },
        "aff186e1d5e14de9a0b97666fff7eaac": {
          "model_module": "@jupyter-widgets/base",
          "model_name": "LayoutModel",
          "model_module_version": "1.2.0",
          "state": {
            "_model_module": "@jupyter-widgets/base",
            "_model_module_version": "1.2.0",
            "_model_name": "LayoutModel",
            "_view_count": null,
            "_view_module": "@jupyter-widgets/base",
            "_view_module_version": "1.2.0",
            "_view_name": "LayoutView",
            "align_content": null,
            "align_items": null,
            "align_self": null,
            "border": null,
            "bottom": null,
            "display": null,
            "flex": null,
            "flex_flow": null,
            "grid_area": null,
            "grid_auto_columns": null,
            "grid_auto_flow": null,
            "grid_auto_rows": null,
            "grid_column": null,
            "grid_gap": null,
            "grid_row": null,
            "grid_template_areas": null,
            "grid_template_columns": null,
            "grid_template_rows": null,
            "height": null,
            "justify_content": null,
            "justify_items": null,
            "left": null,
            "margin": null,
            "max_height": null,
            "max_width": null,
            "min_height": null,
            "min_width": null,
            "object_fit": null,
            "object_position": null,
            "order": null,
            "overflow": null,
            "overflow_x": null,
            "overflow_y": null,
            "padding": null,
            "right": null,
            "top": null,
            "visibility": null,
            "width": null
          }
        },
        "bf7f111c2c344d53b12c9f7ff2b2b0e8": {
          "model_module": "@jupyter-widgets/controls",
          "model_name": "DescriptionStyleModel",
          "model_module_version": "1.5.0",
          "state": {
            "_model_module": "@jupyter-widgets/controls",
            "_model_module_version": "1.5.0",
            "_model_name": "DescriptionStyleModel",
            "_view_count": null,
            "_view_module": "@jupyter-widgets/base",
            "_view_module_version": "1.2.0",
            "_view_name": "StyleView",
            "description_width": ""
          }
        }
      }
    }
  },
  "cells": [
    {
      "cell_type": "markdown",
      "metadata": {
        "id": "lwa837tUO5Pg"
      },
      "source": [
        "#Usando *word embeddings* pré-treinadas\n",
        "Algumas opções de *word embeddings* pré-treinadas para o português são:\n",
        "\n",
        "* *Word embeddings* monolíngues (ex: NILC *word embeddings* disponíveis em http://nilc.icmc.usp.br/embeddings))\n",
        "* *Word embeddings* multilíngues (ex: MUSE *word embedings* disponíveis em https://github.com/facebookresearch/MUSE)\n",
        "\n",
        "Foram escolhidas as *word embeddings* do NILC treinadas com GloVe conforme informações disponíveis na página das NILC *word embeddings* citada acima."
      ]
    },
    {
      "cell_type": "code",
      "source": [
        "!pip install torch pot gensim transformers # depois de rodar a 1a vez, pode comentar esta linha"
      ],
      "metadata": {
        "id": "FPRHiUHGIkC1",
        "colab": {
          "base_uri": "https://localhost:8080/"
        },
        "outputId": "4499f565-d4ef-46f4-fe16-72fab7c02356"
      },
      "execution_count": 1,
      "outputs": [
        {
          "output_type": "stream",
          "name": "stdout",
          "text": [
            "Requirement already satisfied: torch in /usr/local/lib/python3.10/dist-packages (2.0.1+cu118)\n",
            "Collecting pot\n",
            "  Downloading POT-0.9.1-cp310-cp310-manylinux_2_17_x86_64.manylinux2014_x86_64.whl (789 kB)\n",
            "\u001b[2K     \u001b[90m━━━━━━━━━━━━━━━━━━━━━━━━━━━━━━━━━━━━━━\u001b[0m \u001b[32m790.0/790.0 kB\u001b[0m \u001b[31m12.6 MB/s\u001b[0m eta \u001b[36m0:00:00\u001b[0m\n",
            "\u001b[?25hRequirement already satisfied: gensim in /usr/local/lib/python3.10/dist-packages (4.3.2)\n",
            "Collecting transformers\n",
            "  Downloading transformers-4.34.0-py3-none-any.whl (7.7 MB)\n",
            "\u001b[2K     \u001b[90m━━━━━━━━━━━━━━━━━━━━━━━━━━━━━━━━━━━━━━━━\u001b[0m \u001b[32m7.7/7.7 MB\u001b[0m \u001b[31m96.1 MB/s\u001b[0m eta \u001b[36m0:00:00\u001b[0m\n",
            "\u001b[?25hRequirement already satisfied: filelock in /usr/local/lib/python3.10/dist-packages (from torch) (3.12.4)\n",
            "Requirement already satisfied: typing-extensions in /usr/local/lib/python3.10/dist-packages (from torch) (4.5.0)\n",
            "Requirement already satisfied: sympy in /usr/local/lib/python3.10/dist-packages (from torch) (1.12)\n",
            "Requirement already satisfied: networkx in /usr/local/lib/python3.10/dist-packages (from torch) (3.1)\n",
            "Requirement already satisfied: jinja2 in /usr/local/lib/python3.10/dist-packages (from torch) (3.1.2)\n",
            "Requirement already satisfied: triton==2.0.0 in /usr/local/lib/python3.10/dist-packages (from torch) (2.0.0)\n",
            "Requirement already satisfied: cmake in /usr/local/lib/python3.10/dist-packages (from triton==2.0.0->torch) (3.27.6)\n",
            "Requirement already satisfied: lit in /usr/local/lib/python3.10/dist-packages (from triton==2.0.0->torch) (17.0.2)\n",
            "Requirement already satisfied: numpy>=1.16 in /usr/local/lib/python3.10/dist-packages (from pot) (1.23.5)\n",
            "Requirement already satisfied: scipy>=1.0 in /usr/local/lib/python3.10/dist-packages (from pot) (1.11.3)\n",
            "Requirement already satisfied: smart-open>=1.8.1 in /usr/local/lib/python3.10/dist-packages (from gensim) (6.4.0)\n",
            "Collecting huggingface-hub<1.0,>=0.16.4 (from transformers)\n",
            "  Downloading huggingface_hub-0.17.3-py3-none-any.whl (295 kB)\n",
            "\u001b[2K     \u001b[90m━━━━━━━━━━━━━━━━━━━━━━━━━━━━━━━━━━━━━━\u001b[0m \u001b[32m295.0/295.0 kB\u001b[0m \u001b[31m35.0 MB/s\u001b[0m eta \u001b[36m0:00:00\u001b[0m\n",
            "\u001b[?25hRequirement already satisfied: packaging>=20.0 in /usr/local/lib/python3.10/dist-packages (from transformers) (23.2)\n",
            "Requirement already satisfied: pyyaml>=5.1 in /usr/local/lib/python3.10/dist-packages (from transformers) (6.0.1)\n",
            "Requirement already satisfied: regex!=2019.12.17 in /usr/local/lib/python3.10/dist-packages (from transformers) (2023.6.3)\n",
            "Requirement already satisfied: requests in /usr/local/lib/python3.10/dist-packages (from transformers) (2.31.0)\n",
            "Collecting tokenizers<0.15,>=0.14 (from transformers)\n",
            "  Downloading tokenizers-0.14.0-cp310-cp310-manylinux_2_17_x86_64.manylinux2014_x86_64.whl (3.8 MB)\n",
            "\u001b[2K     \u001b[90m━━━━━━━━━━━━━━━━━━━━━━━━━━━━━━━━━━━━━━━━\u001b[0m \u001b[32m3.8/3.8 MB\u001b[0m \u001b[31m108.4 MB/s\u001b[0m eta \u001b[36m0:00:00\u001b[0m\n",
            "\u001b[?25hCollecting safetensors>=0.3.1 (from transformers)\n",
            "  Downloading safetensors-0.3.3-cp310-cp310-manylinux_2_17_x86_64.manylinux2014_x86_64.whl (1.3 MB)\n",
            "\u001b[2K     \u001b[90m━━━━━━━━━━━━━━━━━━━━━━━━━━━━━━━━━━━━━━━━\u001b[0m \u001b[32m1.3/1.3 MB\u001b[0m \u001b[31m75.5 MB/s\u001b[0m eta \u001b[36m0:00:00\u001b[0m\n",
            "\u001b[?25hRequirement already satisfied: tqdm>=4.27 in /usr/local/lib/python3.10/dist-packages (from transformers) (4.66.1)\n",
            "Requirement already satisfied: fsspec in /usr/local/lib/python3.10/dist-packages (from huggingface-hub<1.0,>=0.16.4->transformers) (2023.6.0)\n",
            "Collecting huggingface-hub<1.0,>=0.16.4 (from transformers)\n",
            "  Downloading huggingface_hub-0.16.4-py3-none-any.whl (268 kB)\n",
            "\u001b[2K     \u001b[90m━━━━━━━━━━━━━━━━━━━━━━━━━━━━━━━━━━━━━━\u001b[0m \u001b[32m268.8/268.8 kB\u001b[0m \u001b[31m33.1 MB/s\u001b[0m eta \u001b[36m0:00:00\u001b[0m\n",
            "\u001b[?25hRequirement already satisfied: MarkupSafe>=2.0 in /usr/local/lib/python3.10/dist-packages (from jinja2->torch) (2.1.3)\n",
            "Requirement already satisfied: charset-normalizer<4,>=2 in /usr/local/lib/python3.10/dist-packages (from requests->transformers) (3.3.0)\n",
            "Requirement already satisfied: idna<4,>=2.5 in /usr/local/lib/python3.10/dist-packages (from requests->transformers) (3.4)\n",
            "Requirement already satisfied: urllib3<3,>=1.21.1 in /usr/local/lib/python3.10/dist-packages (from requests->transformers) (2.0.6)\n",
            "Requirement already satisfied: certifi>=2017.4.17 in /usr/local/lib/python3.10/dist-packages (from requests->transformers) (2023.7.22)\n",
            "Requirement already satisfied: mpmath>=0.19 in /usr/local/lib/python3.10/dist-packages (from sympy->torch) (1.3.0)\n",
            "Installing collected packages: safetensors, pot, huggingface-hub, tokenizers, transformers\n",
            "Successfully installed huggingface-hub-0.16.4 pot-0.9.1 safetensors-0.3.3 tokenizers-0.14.0 transformers-4.34.0\n"
          ]
        }
      ]
    },
    {
      "cell_type": "code",
      "metadata": {
        "id": "5qYtLQAcXZec",
        "colab": {
          "base_uri": "https://localhost:8080/"
        },
        "outputId": "48a8fdb3-440e-46c3-80b9-5a0d0f3bbce6"
      },
      "source": [
        "!wget http://143.107.183.175:22980/download.php?file=embeddings/glove/glove_s300.zip -O glove_s300.zip"
      ],
      "execution_count": 2,
      "outputs": [
        {
          "output_type": "stream",
          "name": "stdout",
          "text": [
            "--2023-10-06 01:18:09--  http://143.107.183.175:22980/download.php?file=embeddings/glove/glove_s300.zip\n",
            "Connecting to 143.107.183.175:22980... connected.\n",
            "HTTP request sent, awaiting response... 200 OK\n",
            "Length: 993190150 (947M) [application/octet-stream]\n",
            "Saving to: ‘glove_s300.zip’\n",
            "\n",
            "glove_s300.zip      100%[===================>] 947.18M  11.2MB/s    in 86s     \n",
            "\n",
            "2023-10-06 01:19:35 (11.1 MB/s) - ‘glove_s300.zip’ saved [993190150/993190150]\n",
            "\n"
          ]
        }
      ]
    },
    {
      "cell_type": "markdown",
      "metadata": {
        "id": "a3LbFQYs_eqE"
      },
      "source": [
        "O arquivo \"glove_s300.zip\" estará disponível na sua área de arquivos do Colab.\n",
        "Em seguida, nós descompactamos o arquivo zipado das WEs e utilizamos o gensim para carregá-las."
      ]
    },
    {
      "cell_type": "code",
      "metadata": {
        "id": "T9JaogyyPQcG",
        "outputId": "d26dc753-5fe5-4c02-e761-ceecc468aebe",
        "colab": {
          "base_uri": "https://localhost:8080/"
        }
      },
      "source": [
        "!unzip -o 'glove_s300.zip'"
      ],
      "execution_count": 3,
      "outputs": [
        {
          "output_type": "stream",
          "name": "stdout",
          "text": [
            "Archive:  glove_s300.zip\n",
            "  inflating: glove_s300.txt          \n"
          ]
        }
      ]
    },
    {
      "cell_type": "code",
      "metadata": {
        "id": "TeAm2uYd31mf"
      },
      "source": [
        "import gensim"
      ],
      "execution_count": 5,
      "outputs": []
    },
    {
      "cell_type": "code",
      "metadata": {
        "id": "FLUaNquo0go8"
      },
      "source": [
        "nilc_glove = gensim.models.KeyedVectors.load_word2vec_format('glove_s300.txt')"
      ],
      "execution_count": 6,
      "outputs": []
    },
    {
      "cell_type": "code",
      "source": [
        "nilc_glove['rainha']"
      ],
      "metadata": {
        "id": "jDvSDA-tqleQ",
        "colab": {
          "base_uri": "https://localhost:8080/"
        },
        "outputId": "b1e6b3b6-ed87-44f3-f9b9-3f5645206879"
      },
      "execution_count": 7,
      "outputs": [
        {
          "output_type": "execute_result",
          "data": {
            "text/plain": [
              "array([ 2.857950e-01,  4.226900e-02,  2.864250e-01,  9.596100e-02,\n",
              "        1.495160e-01,  5.793960e-01,  4.608010e-01, -7.810570e-01,\n",
              "        4.760560e-01,  4.057550e-01, -1.790730e-01,  1.773080e-01,\n",
              "       -1.668150e-01, -4.807240e-01,  4.022550e-01,  1.015400e-02,\n",
              "       -1.763400e-02,  8.550000e-02,  4.547110e-01, -8.447500e-02,\n",
              "        4.812800e-02,  2.114790e-01,  4.377200e-01, -8.266930e-01,\n",
              "        2.337060e-01,  3.393270e-01, -4.997840e-01, -1.689300e-02,\n",
              "       -1.940720e-01,  2.903150e-01, -8.641000e-03, -2.242950e-01,\n",
              "       -2.662260e-01,  7.819390e-01,  1.174910e-01, -1.435590e-01,\n",
              "        4.530100e-01, -1.135150e-01,  1.318970e-01, -2.900920e-01,\n",
              "        4.318400e-02, -4.619380e-01, -8.520240e-01, -4.646560e-01,\n",
              "       -6.816600e-02,  2.037540e-01,  2.920350e-01,  1.060350e-01,\n",
              "       -5.561000e-03, -1.296670e-01,  1.944900e-02,  4.559740e-01,\n",
              "        1.902970e-01,  1.339700e-02,  2.915490e-01, -1.247910e-01,\n",
              "       -5.053990e-01,  2.310520e-01,  4.238920e-01, -2.626730e-01,\n",
              "        3.107670e-01,  1.825540e-01, -1.249560e-01,  1.358460e-01,\n",
              "        1.087570e-01,  3.937300e-01, -5.646170e-01,  1.807860e-01,\n",
              "        4.898910e-01,  4.980390e-01,  8.938200e-02,  1.319380e-01,\n",
              "        1.080680e-01,  2.876680e-01, -8.073700e-02, -1.627640e-01,\n",
              "       -2.537800e-02,  3.911060e-01, -2.318370e-01,  2.258450e-01,\n",
              "       -1.341500e-02, -5.878670e-01, -1.497720e-01, -2.877470e-01,\n",
              "        2.423600e-01,  8.362700e-02, -8.796970e-01, -1.284380e-01,\n",
              "       -6.435890e-01, -5.784310e-01, -8.304200e-02, -4.109390e-01,\n",
              "       -9.943890e-01, -1.322300e-01,  4.600300e-01, -2.392480e-01,\n",
              "        1.489810e-01,  2.945170e-01, -2.328280e-01,  1.443020e-01,\n",
              "        4.926650e-01,  6.330000e-04,  5.095440e-01,  3.416950e-01,\n",
              "        1.954130e+00, -1.209900e-02,  8.442300e-02,  1.039620e-01,\n",
              "        9.418000e-03, -4.311360e-01,  1.471060e-01, -7.090430e-01,\n",
              "       -1.460900e-01,  2.647550e-01,  4.522800e-02, -2.145400e-02,\n",
              "        1.815890e-01,  9.054600e-02, -1.160010e-01,  3.061670e-01,\n",
              "        1.351040e-01,  5.619930e-01, -5.801120e-01,  1.160350e-01,\n",
              "       -1.285730e-01,  5.623020e-01, -1.024930e-01, -7.314020e-01,\n",
              "        2.446830e-01,  5.529800e-02, -1.989760e-01, -5.549780e-01,\n",
              "       -1.434450e-01,  5.559850e-01, -5.312880e-01,  3.851100e-01,\n",
              "       -4.649480e-01,  3.642610e-01,  7.395600e-02,  5.723100e-02,\n",
              "        5.289900e-01, -7.772600e-02,  3.550120e-01, -2.513670e-01,\n",
              "        2.136600e-02,  1.688770e-01, -8.059690e-01,  3.617410e-01,\n",
              "       -2.365920e-01,  5.695120e-01, -9.394300e-02,  5.321650e-01,\n",
              "       -1.745080e-01,  1.001350e-01,  2.820300e-02,  2.003020e-01,\n",
              "       -1.202760e-01, -3.525280e-01, -3.058190e-01, -1.459620e-01,\n",
              "        5.711540e-01,  2.898400e-02,  1.727100e-01,  2.693090e-01,\n",
              "       -4.646510e-01, -2.149340e-01,  2.143040e-01, -1.178010e-01,\n",
              "        6.417500e-02, -2.368900e-01,  5.717300e-01, -1.267600e-01,\n",
              "       -1.975000e-02,  4.720420e-01,  5.162900e-02,  1.909810e-01,\n",
              "       -2.486950e-01,  1.604780e-01, -6.982090e-01,  5.198210e-01,\n",
              "       -1.034330e-01,  1.154860e-01, -2.195310e-01, -2.743420e-01,\n",
              "        4.392560e-01,  4.388250e-01, -4.355400e-01, -2.474250e-01,\n",
              "        3.495100e-01,  4.663420e-01, -3.612950e-01,  8.706880e-01,\n",
              "        6.566830e-01, -2.446270e-01, -6.342800e-02, -5.974170e-01,\n",
              "        3.860690e-01,  1.586730e-01,  4.086800e-01,  4.218040e-01,\n",
              "        9.249600e-02, -5.480800e-01,  4.773670e-01, -8.234200e-02,\n",
              "        1.795870e-01, -1.773840e-01,  6.522200e-02,  3.811750e-01,\n",
              "        2.336510e-01,  8.206000e-02,  7.860700e-02, -7.560130e-01,\n",
              "       -7.481200e-02, -3.139990e-01,  7.193810e-01,  3.874190e-01,\n",
              "       -3.331280e-01, -8.174850e-01,  2.054940e-01,  1.604840e-01,\n",
              "        2.304910e-01, -1.714590e-01, -4.965630e-01,  3.657200e-02,\n",
              "       -8.471700e-02, -7.670200e-02,  1.918580e-01,  1.711490e-01,\n",
              "        2.382840e-01, -5.288950e-01, -2.289210e-01,  7.770200e-02,\n",
              "       -2.123290e-01, -2.657760e-01, -1.563390e-01, -1.625410e-01,\n",
              "       -1.454060e-01,  1.499610e-01,  6.658610e-01, -3.771150e-01,\n",
              "        1.631666e+00,  3.291920e-01,  3.180800e-01, -4.702660e-01,\n",
              "       -9.240300e-01, -1.283420e-01, -2.804920e-01, -3.407850e-01,\n",
              "        2.170890e-01,  5.963740e-01, -4.269480e-01,  3.139210e-01,\n",
              "        4.757500e-02,  5.706840e-01,  2.286140e-01,  7.496670e-01,\n",
              "        3.764530e-01,  4.391340e-01, -8.567100e-02, -5.064080e-01,\n",
              "        3.195780e-01,  2.935980e-01, -4.535660e-01, -3.116900e-01,\n",
              "       -4.561020e-01, -6.132400e-02,  4.517130e-01, -8.004600e-02,\n",
              "        2.019630e-01, -5.041510e-01,  3.189170e-01, -2.979950e-01,\n",
              "        1.884000e-02,  3.942600e-02, -8.178200e-02, -6.665230e-01,\n",
              "        7.527700e-02, -2.806340e-01,  1.495310e-01,  4.417170e-01,\n",
              "       -5.562500e-02, -5.789900e-02,  2.402130e-01,  5.404580e-01,\n",
              "       -8.660700e-02,  3.791800e-02, -4.151740e-01,  4.078500e-02,\n",
              "       -1.740240e-01,  2.028220e-01,  1.110180e-01,  2.263880e-01,\n",
              "       -1.062180e-01,  2.773650e-01, -2.522170e-01,  5.646570e-01,\n",
              "       -3.583700e-01, -9.190810e-01,  2.738440e-01,  2.291610e-01],\n",
              "      dtype=float32)"
            ]
          },
          "metadata": {},
          "execution_count": 7
        }
      ]
    },
    {
      "cell_type": "code",
      "source": [
        "nilc_glove.similarity('rainha','rei')"
      ],
      "metadata": {
        "id": "hiqM2471rJM3",
        "colab": {
          "base_uri": "https://localhost:8080/"
        },
        "outputId": "b1938133-d631-4baa-df41-c2415cfe13dd"
      },
      "execution_count": 8,
      "outputs": [
        {
          "output_type": "execute_result",
          "data": {
            "text/plain": [
              "0.6457715"
            ]
          },
          "metadata": {},
          "execution_count": 8
        }
      ]
    },
    {
      "cell_type": "markdown",
      "metadata": {
        "id": "KuqY0k-J7tTN"
      },
      "source": [
        "# Verificando a similaridade entre palavras\n",
        "Nesta seção fazeremos algumas manipulações básicas com as WEs do NILC para encontrar a similaridade entre palavras.\n",
        "\n",
        "Por exemplo, a operação abaixo\n",
        "\n",
        "resultado = vetor[mulher] + vetor[rei] - vetor[homem]\n",
        "\n",
        "o vetor mais próximo do resultado é o vetor de \"rainha\"."
      ]
    },
    {
      "cell_type": "code",
      "metadata": {
        "id": "YHIp52qURgfc",
        "colab": {
          "base_uri": "https://localhost:8080/"
        },
        "outputId": "64f3df4f-27e2-4163-a0ce-c0b4488e492f"
      },
      "source": [
        "resultado = nilc_glove.most_similar(positive=['mulher', 'rei'], negative=['homem'])\n",
        "print(\"{}: {:.4f}\".format(*resultado[0]))"
      ],
      "execution_count": 9,
      "outputs": [
        {
          "output_type": "stream",
          "name": "stdout",
          "text": [
            "rainha: 0.7193\n"
          ]
        }
      ]
    },
    {
      "cell_type": "code",
      "source": [
        "resultado = nilc_glove.most_similar(positive=['amar', 'odiando'], negative=['odiar'])\n",
        "print(\"{}: {:.4f}\".format(*resultado[0]))"
      ],
      "metadata": {
        "id": "X58hWWa7ryza",
        "colab": {
          "base_uri": "https://localhost:8080/"
        },
        "outputId": "356585d0-d218-4565-90ef-ba5fc86dbcd5"
      },
      "execution_count": 10,
      "outputs": [
        {
          "output_type": "stream",
          "name": "stdout",
          "text": [
            "amando: 0.3852\n"
          ]
        }
      ]
    },
    {
      "cell_type": "markdown",
      "metadata": {
        "id": "TV8DvYjWGvnK"
      },
      "source": [
        "Também podemos conferir quais são as *n* palavras mais próximas (o *default* do most_similar é *n* = 10) de uma determinada palavra, por exemplo: \"escola\"."
      ]
    },
    {
      "cell_type": "code",
      "metadata": {
        "id": "kTjSNvrrFDL6",
        "colab": {
          "base_uri": "https://localhost:8080/"
        },
        "outputId": "fb23a942-2ee6-4252-e004-cba3f02d2935"
      },
      "source": [
        "nilc_glove.most_similar(\"escola\")"
      ],
      "execution_count": 11,
      "outputs": [
        {
          "output_type": "execute_result",
          "data": {
            "text/plain": [
              "[('alunos', 0.677706778049469),\n",
              " ('escolas', 0.6750765442848206),\n",
              " ('ensino', 0.6746147274971008),\n",
              " ('colégio', 0.6733009815216064),\n",
              " ('faculdade', 0.6269355416297913),\n",
              " ('aula', 0.6062946319580078),\n",
              " ('aulas', 0.6045212149620056),\n",
              " ('educação', 0.6030406951904297),\n",
              " ('professores', 0.5954740047454834),\n",
              " ('escolar', 0.5880724787712097)]"
            ]
          },
          "metadata": {},
          "execution_count": 11
        }
      ]
    },
    {
      "cell_type": "markdown",
      "metadata": {
        "id": "W8S-UwlnHGOt"
      },
      "source": [
        "Também é possível calcular o valor de similaridade (usando cosseno, por *default*) entre duas palavras."
      ]
    },
    {
      "cell_type": "code",
      "metadata": {
        "id": "y60QaXEkSCrM",
        "colab": {
          "base_uri": "https://localhost:8080/"
        },
        "outputId": "18c94e9f-04a8-41b8-a206-5b8be9fff867"
      },
      "source": [
        "print(\"Similaridade entre menino e menina: \", nilc_glove.similarity(\"menino\",\"menina\"))"
      ],
      "execution_count": 12,
      "outputs": [
        {
          "output_type": "stream",
          "name": "stdout",
          "text": [
            "Similaridade entre menino e menina:  0.7013513\n"
          ]
        }
      ]
    },
    {
      "cell_type": "markdown",
      "metadata": {
        "id": "v5L8kmreHODL"
      },
      "source": [
        "E verificar qual palavra distoa em um grupo de quatro palavras, por exemplo: menina, menino, cão e garota."
      ]
    },
    {
      "cell_type": "code",
      "metadata": {
        "id": "T3gZNIJmSdz5",
        "colab": {
          "base_uri": "https://localhost:8080/"
        },
        "outputId": "f9af402b-748b-419d-cbcb-18aca5855fbf"
      },
      "source": [
        "print(nilc_glove.doesnt_match(\"menina menino cão garota\".split()))"
      ],
      "execution_count": 13,
      "outputs": [
        {
          "output_type": "stream",
          "name": "stdout",
          "text": [
            "cão\n"
          ]
        }
      ]
    },
    {
      "cell_type": "markdown",
      "metadata": {
        "id": "6_qmjUjG7z2o"
      },
      "source": [
        "# Verificando a similaridade entre sentenças"
      ]
    },
    {
      "cell_type": "markdown",
      "metadata": {
        "id": "0uLMi09DHc1a"
      },
      "source": [
        "Além de verificar a similaridade entre palavas, o gensim disponibliza algumas rotinas para calcular a similaridade entre sentenças. Por exemplo, a similaridade da sentença \"O menino foi para a escola de ônibus.\" e as sentenças \"Ana foi para a escola ontem.\" e \"A menina foi para casa.\". Veja que a similaridade com a última é maior do que com a primeira, com isso as similaridades das palavras é maior."
      ]
    },
    {
      "cell_type": "code",
      "metadata": {
        "id": "60cdppfWZljc",
        "colab": {
          "base_uri": "https://localhost:8080/"
        },
        "outputId": "f6e33703-e9ec-4f45-a66f-9ed1e8dbe5c4"
      },
      "source": [
        "sentenca = \"O menino foi para a escola de ônibus.\".lower().split()\n",
        "\n",
        "sent1 = \"Ana foi para a escola ontem.\".lower().split()\n",
        "similaridade = nilc_glove.wmdistance(sentenca, sent1)\n",
        "print(\"{:.4f}\".format(similaridade))\n",
        "\n",
        "sent2 = \"A menina foi para casa.\".lower().split()\n",
        "similaridade = nilc_glove.wmdistance(sentenca, sent2)\n",
        "print(\"{:.4f}\".format(similaridade))"
      ],
      "execution_count": 14,
      "outputs": [
        {
          "output_type": "stream",
          "name": "stderr",
          "text": [
            "/usr/local/lib/python3.10/dist-packages/ot/backend.py:1368: UserWarning: Explicitly requested dtype <class 'jax.numpy.float64'> requested in array is not available, and will be truncated to dtype float32. To enable more dtypes, set the jax_enable_x64 configuration option or the JAX_ENABLE_X64 shell environment variable. See https://github.com/google/jax#current-gotchas for more.\n",
            "  jax.device_put(jnp.array(1, dtype=jnp.float64), d)\n"
          ]
        },
        {
          "output_type": "stream",
          "name": "stdout",
          "text": [
            "0.5826\n",
            "0.6676\n"
          ]
        },
        {
          "output_type": "stream",
          "name": "stderr",
          "text": [
            "/usr/local/lib/python3.10/dist-packages/ot/backend.py:2998: UserWarning: To use TensorflowBackend, you need to activate the tensorflow numpy API. You can activate it by running: \n",
            "from tensorflow.python.ops.numpy_ops import np_config\n",
            "np_config.enable_numpy_behavior()\n",
            "  register_backend(TensorflowBackend())\n"
          ]
        }
      ]
    },
    {
      "cell_type": "markdown",
      "source": [
        "# BERTimbau\n",
        "\n",
        "Modelo de linguagem contextualizado para o português."
      ],
      "metadata": {
        "id": "3HM_Q-Wzvs7a"
      }
    },
    {
      "cell_type": "code",
      "source": [
        "import torch\n",
        "from transformers import AutoTokenizer  # ou BertTokenizer\n",
        "from transformers import AutoModelForPreTraining  # ou BertForPreTraining para carregar pretraining heads\n",
        "from transformers import AutoModel  # ou BertModel, para BERT sem pretraining heads"
      ],
      "metadata": {
        "id": "7I0OHnWhwLAl"
      },
      "execution_count": 15,
      "outputs": []
    },
    {
      "cell_type": "code",
      "source": [
        "#device = 'cpu'\n",
        "device = torch.device('cuda' if torch.cuda.is_available() else 'cpu')\n",
        "print(device)\n",
        "\n",
        "tokenizer = AutoTokenizer.from_pretrained('neuralmind/bert-large-portuguese-cased', do_lower_case=False)\n",
        "bert = AutoModel.from_pretrained('neuralmind/bert-large-portuguese-cased')\n",
        "bert = bert.to(device)"
      ],
      "metadata": {
        "id": "vqRjdXsgwNkx",
        "colab": {
          "base_uri": "https://localhost:8080/",
          "height": 226,
          "referenced_widgets": [
            "900e133178bf4380877c489d5e64651b",
            "37523cacf52d403eb8632b699176b8b4",
            "efb7a664e0ef4e3a805bbd192cd13773",
            "a78f3878d9ec42b0a6204f1723026dc3",
            "05004592b9a341cb9fb778730fdfa46a",
            "cc65cc361ea541b58d3d16feb31a7bae",
            "fe745a9da0a34033899e6a7411d7c81d",
            "2a632e44a0d94f7f965b550ffa6f37d7",
            "a9d52687f631406a995e1fbf09ac3ac7",
            "1cdf9b5c96ff49edafca534da06c4c29",
            "196ee51ba68e405d9f0cb828c3b39dcb",
            "3dd2ab2a840540fabb320a35c745c6e3",
            "c0de1a93701e41a2b53765de36a7347b",
            "8bff1e1ba33d45e988e3dfc8e8f3f68f",
            "4a60b50da9b6479e8c7924899db11913",
            "cf71a2a0b84046c098eaab7131f04f19",
            "9d393ebb0c7a47409d65b04f088eab26",
            "4d4a1497f88e412e8f95fe428007609b",
            "8ad6585c8df14368b894ac2abcc7133d",
            "910a7e52f6e143b2a5ca70de6ac254cb",
            "0b181573a2f1498cacdd3b87f2d980a8",
            "c18cebf381534262aa9af78f1652f514",
            "b6d4676fd6ba4175833d07842b3f97ee",
            "efbe0c33ae55497cbf4cda80b464e654",
            "9eabc88fc8334ce7a03bfa9afe052615",
            "a7fa0419b5214478b386649a68753e6b",
            "1a4d731906844946a20f1d24fa99035f",
            "e98b0597b4094c52adb5a3da67b17d7c",
            "63810c7993fc43869c92b6d5cf2006d6",
            "3b15ce9eb66545db814e7ba9556c7f49",
            "57672938592b4b4ab5120eca355bcef8",
            "deaf7ada95274f2593ba228de327746f",
            "e6cb999579aa4e0c98c926f1bbe73af2",
            "570ae28027ef4fe285191d4e4ad7c254",
            "14b940f5a7ec44b283139c3aea3c7154",
            "026d7399d4e34fbaa1884bbb59fbcbe6",
            "b8e9108e3527440580e23dd5b8f236a0",
            "11ab71e2eea84874bcf1373a2e303188",
            "af4b9cdcf8e340c2a96a2d5fed0528f3",
            "9a9f5f24badc48acb9f970fb3762002c",
            "50a3288ab7434e8aa42cb77020abe7f9",
            "1799bb1e2a6248d1aadd93a86f3aea01",
            "28a3735fb0f440bd9425d82929500916",
            "a71c42f5246342be9f8337da997a80e9",
            "675a4599ad54491f9ef4ec1b84bd4280",
            "0c810cf5c50245169f6e85f8114778ac",
            "7184722836274945ab4016b94585d48a",
            "473ef5bb36e144ecb3792adb3a36efcc",
            "e34781073ade49bea6db7ba888a0dcf5",
            "c147520ce22b40a096f5d80dc39d7726",
            "8347b24c4ed740089e492bde017bed2e",
            "9247cda84a5748a28fb398090a1a3590",
            "fe0831161a424c9fb5ce8c960b90738b",
            "4101990c8d8e429385e4e2de5b98b4a2",
            "4412cc849d484a9fb4223adeed438d93",
            "e4112aa69a9a4a56b5b07f0f9a4247c4",
            "cc6c5f0695be4922928ea83b40927a4d",
            "2bca7dfcdfda490aa718a6a2ada9fa65",
            "0f2de58035944216837d29503ffceec8",
            "09bc60fb00c34bc7acd5ba036e6edfc6",
            "82320568cad74e4eb6d11bd612cf6518",
            "538b78b1a05642968fd5d9dc45000ff2",
            "39227c5a24e74e60930f2bee44194f65",
            "bef4310de7af4770a1acc2ee1bc5718d",
            "aff186e1d5e14de9a0b97666fff7eaac",
            "bf7f111c2c344d53b12c9f7ff2b2b0e8"
          ]
        },
        "outputId": "8f21cb92-fe5c-4b00-c6ac-e8892c008eae"
      },
      "execution_count": 16,
      "outputs": [
        {
          "output_type": "stream",
          "name": "stdout",
          "text": [
            "cuda\n"
          ]
        },
        {
          "output_type": "display_data",
          "data": {
            "text/plain": [
              "Downloading (…)okenizer_config.json:   0%|          | 0.00/155 [00:00<?, ?B/s]"
            ],
            "application/vnd.jupyter.widget-view+json": {
              "version_major": 2,
              "version_minor": 0,
              "model_id": "900e133178bf4380877c489d5e64651b"
            }
          },
          "metadata": {}
        },
        {
          "output_type": "display_data",
          "data": {
            "text/plain": [
              "Downloading (…)lve/main/config.json:   0%|          | 0.00/648 [00:00<?, ?B/s]"
            ],
            "application/vnd.jupyter.widget-view+json": {
              "version_major": 2,
              "version_minor": 0,
              "model_id": "3dd2ab2a840540fabb320a35c745c6e3"
            }
          },
          "metadata": {}
        },
        {
          "output_type": "display_data",
          "data": {
            "text/plain": [
              "Downloading (…)solve/main/vocab.txt:   0%|          | 0.00/210k [00:00<?, ?B/s]"
            ],
            "application/vnd.jupyter.widget-view+json": {
              "version_major": 2,
              "version_minor": 0,
              "model_id": "b6d4676fd6ba4175833d07842b3f97ee"
            }
          },
          "metadata": {}
        },
        {
          "output_type": "display_data",
          "data": {
            "text/plain": [
              "Downloading (…)in/added_tokens.json:   0%|          | 0.00/2.00 [00:00<?, ?B/s]"
            ],
            "application/vnd.jupyter.widget-view+json": {
              "version_major": 2,
              "version_minor": 0,
              "model_id": "570ae28027ef4fe285191d4e4ad7c254"
            }
          },
          "metadata": {}
        },
        {
          "output_type": "display_data",
          "data": {
            "text/plain": [
              "Downloading (…)cial_tokens_map.json:   0%|          | 0.00/112 [00:00<?, ?B/s]"
            ],
            "application/vnd.jupyter.widget-view+json": {
              "version_major": 2,
              "version_minor": 0,
              "model_id": "675a4599ad54491f9ef4ec1b84bd4280"
            }
          },
          "metadata": {}
        },
        {
          "output_type": "display_data",
          "data": {
            "text/plain": [
              "Downloading pytorch_model.bin:   0%|          | 0.00/1.34G [00:00<?, ?B/s]"
            ],
            "application/vnd.jupyter.widget-view+json": {
              "version_major": 2,
              "version_minor": 0,
              "model_id": "e4112aa69a9a4a56b5b07f0f9a4247c4"
            }
          },
          "metadata": {}
        }
      ]
    },
    {
      "cell_type": "code",
      "source": [
        "texto = 'Eu vou ao banco pagar a conta hoje.'\n",
        "\n",
        "# tokenizando o texto\n",
        "input_ids = tokenizer.encode(texto, return_tensors='pt')\n",
        "wordpieces = tokenizer.convert_ids_to_tokens(input_ids[0])\n",
        "\n",
        "# salvando ponteiros para palavras\n",
        "subwords_idx = [] # first subword of each word\n",
        "for i, wordpiece in enumerate(wordpieces):\n",
        "    if '##' not in wordpiece and i not in [0, len(wordpieces)-1]:\n",
        "        subwords_idx.append(i)\n",
        "\n",
        "# obtendo os vetores para as palavras\n",
        "input_ids = input_ids.to(device)\n",
        "with torch.no_grad():\n",
        "  outs = bert(input_ids)\n",
        "  vetores = outs[0][0, :]\n",
        "\n",
        "print(vetores[subwords_idx].size(), '\\n')\n",
        "vetores[subwords_idx]"
      ],
      "metadata": {
        "id": "YJsGG2PwwTDp",
        "colab": {
          "base_uri": "https://localhost:8080/"
        },
        "outputId": "708bc48d-9b62-4a92-b0ab-b5a6dd01debe"
      },
      "execution_count": 17,
      "outputs": [
        {
          "output_type": "stream",
          "name": "stdout",
          "text": [
            "torch.Size([9, 1024]) \n",
            "\n"
          ]
        },
        {
          "output_type": "execute_result",
          "data": {
            "text/plain": [
              "tensor([[ 0.7381,  0.6351,  0.4160,  ..., -0.5735, -0.9812, -0.6793],\n",
              "        [ 0.6583, -0.0975,  0.2579,  ..., -0.7367, -0.8734,  0.1407],\n",
              "        [ 0.7682,  0.2151,  0.1769,  ...,  1.0626, -0.2526, -0.3107],\n",
              "        ...,\n",
              "        [-0.0765,  0.4402, -0.5236,  ...,  0.8389, -0.3389, -0.8167],\n",
              "        [ 0.3460,  1.8568, -0.0262,  ..., -0.0021, -0.0928,  0.0079],\n",
              "        [ 0.8516,  1.1038, -1.1464,  ...,  0.4630, -0.4967,  0.2980]],\n",
              "       device='cuda:0')"
            ]
          },
          "metadata": {},
          "execution_count": 17
        }
      ]
    }
  ]
}